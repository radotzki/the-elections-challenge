{
 "cells": [
  {
   "cell_type": "code",
   "execution_count": 4,
   "metadata": {
    "collapsed": false
   },
   "outputs": [],
   "source": [
    "import matplotlib.pyplot as plt\n",
    "%matplotlib inline\n",
    "import numpy as np\n",
    "import pandas as pd\n",
    "import statsmodels.api as sm\n",
    "from statsmodels.nonparametric.kde import KDEUnivariate\n",
    "from statsmodels.nonparametric import smoothers_lowess\n",
    "from pandas import Series, DataFrame\n",
    "from patsy import dmatrices\n",
    "from sklearn import datasets, svm\n",
    "# from KaggleAux import predict as ka # see github.com/agconti/kaggleaux for more details"
   ]
  },
  {
   "cell_type": "code",
   "execution_count": 6,
   "metadata": {
    "collapsed": true
   },
   "outputs": [],
   "source": [
    "# For .read_csv, always use header=0 when you know row 0 is the header row\n",
    "df = pd.read_csv('./dataset/ElectionsData.csv', header=0)"
   ]
  },
  {
   "cell_type": "markdown",
   "metadata": {},
   "source": [
    "#### Clean missing data"
   ]
  },
  {
   "cell_type": "code",
   "execution_count": 8,
   "metadata": {
    "collapsed": true
   },
   "outputs": [],
   "source": [
    "df = df.dropna()"
   ]
  },
  {
   "cell_type": "code",
   "execution_count": 13,
   "metadata": {
    "collapsed": false
   },
   "outputs": [
    {
     "data": {
      "text/html": [
       "<div>\n",
       "<table border=\"1\" class=\"dataframe\">\n",
       "  <thead>\n",
       "    <tr style=\"text-align: right;\">\n",
       "      <th></th>\n",
       "      <th>Vote</th>\n",
       "      <th>Occupation_Satisfaction</th>\n",
       "      <th>Avg_monthly_expense_when_under_age_21</th>\n",
       "      <th>AVG_lottary_expanses</th>\n",
       "      <th>Most_Important_Issue</th>\n",
       "      <th>Avg_Residancy_Altitude</th>\n",
       "      <th>Looking_at_poles_results</th>\n",
       "      <th>Yearly_ExpensesK</th>\n",
       "      <th>Married</th>\n",
       "      <th>Gender</th>\n",
       "      <th>...</th>\n",
       "      <th>Last_school_grades</th>\n",
       "      <th>Age_group</th>\n",
       "      <th>Number_of_differnt_parties_voted_for</th>\n",
       "      <th>Political_interest_Total_Score</th>\n",
       "      <th>Number_of_valued_Kneset_members</th>\n",
       "      <th>Main_transportation</th>\n",
       "      <th>Occupation</th>\n",
       "      <th>Overall_happiness_score</th>\n",
       "      <th>Num_of_kids_born_last_10_years</th>\n",
       "      <th>Financial_agenda_matters</th>\n",
       "    </tr>\n",
       "  </thead>\n",
       "  <tbody>\n",
       "    <tr>\n",
       "      <th>0</th>\n",
       "      <td>Yellows</td>\n",
       "      <td>9</td>\n",
       "      <td>901.074249</td>\n",
       "      <td>174664.625237</td>\n",
       "      <td>Education</td>\n",
       "      <td>300.358083</td>\n",
       "      <td>No</td>\n",
       "      <td>581.521308</td>\n",
       "      <td>No</td>\n",
       "      <td>Male</td>\n",
       "      <td>...</td>\n",
       "      <td>100</td>\n",
       "      <td>45_and_up</td>\n",
       "      <td>1</td>\n",
       "      <td>1067.419550</td>\n",
       "      <td>14</td>\n",
       "      <td>Motorcycle_or_truck</td>\n",
       "      <td>Industry_or_other</td>\n",
       "      <td>897.297947</td>\n",
       "      <td>0</td>\n",
       "      <td>No</td>\n",
       "    </tr>\n",
       "    <tr>\n",
       "      <th>1</th>\n",
       "      <td>Reds</td>\n",
       "      <td>4</td>\n",
       "      <td>172.175470</td>\n",
       "      <td>23146.728293</td>\n",
       "      <td>Education</td>\n",
       "      <td>57.391823</td>\n",
       "      <td>No</td>\n",
       "      <td>403.310559</td>\n",
       "      <td>Yes</td>\n",
       "      <td>Female</td>\n",
       "      <td>...</td>\n",
       "      <td>100</td>\n",
       "      <td>30-45</td>\n",
       "      <td>0</td>\n",
       "      <td>1111.093591</td>\n",
       "      <td>10</td>\n",
       "      <td>Public_or_other</td>\n",
       "      <td>Industry_or_other</td>\n",
       "      <td>861.981391</td>\n",
       "      <td>0</td>\n",
       "      <td>No</td>\n",
       "    </tr>\n",
       "    <tr>\n",
       "      <th>2</th>\n",
       "      <td>Whites</td>\n",
       "      <td>3</td>\n",
       "      <td>408.262789</td>\n",
       "      <td>97198.945759</td>\n",
       "      <td>Foreign_Affairs</td>\n",
       "      <td>136.087596</td>\n",
       "      <td>No</td>\n",
       "      <td>714.238096</td>\n",
       "      <td>No</td>\n",
       "      <td>Male</td>\n",
       "      <td>...</td>\n",
       "      <td>40</td>\n",
       "      <td>30-45</td>\n",
       "      <td>1</td>\n",
       "      <td>1260.064170</td>\n",
       "      <td>20</td>\n",
       "      <td>Public_or_other</td>\n",
       "      <td>Public_Sector</td>\n",
       "      <td>819.390492</td>\n",
       "      <td>1</td>\n",
       "      <td>Yes</td>\n",
       "    </tr>\n",
       "    <tr>\n",
       "      <th>3</th>\n",
       "      <td>Blues</td>\n",
       "      <td>4</td>\n",
       "      <td>401.755874</td>\n",
       "      <td>52952.486970</td>\n",
       "      <td>Financial</td>\n",
       "      <td>133.918625</td>\n",
       "      <td>No</td>\n",
       "      <td>395.407936</td>\n",
       "      <td>Yes</td>\n",
       "      <td>Male</td>\n",
       "      <td>...</td>\n",
       "      <td>60</td>\n",
       "      <td>30-45</td>\n",
       "      <td>3</td>\n",
       "      <td>837.907521</td>\n",
       "      <td>5</td>\n",
       "      <td>Car</td>\n",
       "      <td>Industry_or_other</td>\n",
       "      <td>584.598207</td>\n",
       "      <td>1</td>\n",
       "      <td>No</td>\n",
       "    </tr>\n",
       "    <tr>\n",
       "      <th>4</th>\n",
       "      <td>Blues</td>\n",
       "      <td>5</td>\n",
       "      <td>210.935361</td>\n",
       "      <td>29798.270086</td>\n",
       "      <td>Healthcare</td>\n",
       "      <td>70.311787</td>\n",
       "      <td>No</td>\n",
       "      <td>423.801917</td>\n",
       "      <td>Yes</td>\n",
       "      <td>Female</td>\n",
       "      <td>...</td>\n",
       "      <td>80</td>\n",
       "      <td>30-45</td>\n",
       "      <td>2</td>\n",
       "      <td>859.308498</td>\n",
       "      <td>4</td>\n",
       "      <td>Motorcycle_or_truck</td>\n",
       "      <td>Services_or_Retail</td>\n",
       "      <td>595.206111</td>\n",
       "      <td>1</td>\n",
       "      <td>No</td>\n",
       "    </tr>\n",
       "  </tbody>\n",
       "</table>\n",
       "<p>5 rows × 38 columns</p>\n",
       "</div>"
      ],
      "text/plain": [
       "      Vote  Occupation_Satisfaction  Avg_monthly_expense_when_under_age_21  \\\n",
       "0  Yellows                        9                             901.074249   \n",
       "1     Reds                        4                             172.175470   \n",
       "2   Whites                        3                             408.262789   \n",
       "3    Blues                        4                             401.755874   \n",
       "4    Blues                        5                             210.935361   \n",
       "\n",
       "   AVG_lottary_expanses Most_Important_Issue  Avg_Residancy_Altitude  \\\n",
       "0         174664.625237            Education              300.358083   \n",
       "1          23146.728293            Education               57.391823   \n",
       "2          97198.945759      Foreign_Affairs              136.087596   \n",
       "3          52952.486970            Financial              133.918625   \n",
       "4          29798.270086           Healthcare               70.311787   \n",
       "\n",
       "  Looking_at_poles_results  Yearly_ExpensesK Married  Gender  \\\n",
       "0                       No        581.521308      No    Male   \n",
       "1                       No        403.310559     Yes  Female   \n",
       "2                       No        714.238096      No    Male   \n",
       "3                       No        395.407936     Yes    Male   \n",
       "4                       No        423.801917     Yes  Female   \n",
       "\n",
       "             ...            Last_school_grades  Age_group  \\\n",
       "0            ...                           100  45_and_up   \n",
       "1            ...                           100      30-45   \n",
       "2            ...                            40      30-45   \n",
       "3            ...                            60      30-45   \n",
       "4            ...                            80      30-45   \n",
       "\n",
       "   Number_of_differnt_parties_voted_for  Political_interest_Total_Score  \\\n",
       "0                                     1                     1067.419550   \n",
       "1                                     0                     1111.093591   \n",
       "2                                     1                     1260.064170   \n",
       "3                                     3                      837.907521   \n",
       "4                                     2                      859.308498   \n",
       "\n",
       "   Number_of_valued_Kneset_members  Main_transportation          Occupation  \\\n",
       "0                               14  Motorcycle_or_truck   Industry_or_other   \n",
       "1                               10      Public_or_other   Industry_or_other   \n",
       "2                               20      Public_or_other       Public_Sector   \n",
       "3                                5                  Car   Industry_or_other   \n",
       "4                                4  Motorcycle_or_truck  Services_or_Retail   \n",
       "\n",
       "   Overall_happiness_score  Num_of_kids_born_last_10_years  \\\n",
       "0               897.297947                               0   \n",
       "1               861.981391                               0   \n",
       "2               819.390492                               1   \n",
       "3               584.598207                               1   \n",
       "4               595.206111                               1   \n",
       "\n",
       "   Financial_agenda_matters  \n",
       "0                        No  \n",
       "1                        No  \n",
       "2                       Yes  \n",
       "3                        No  \n",
       "4                        No  \n",
       "\n",
       "[5 rows x 38 columns]"
      ]
     },
     "execution_count": 13,
     "metadata": {},
     "output_type": "execute_result"
    }
   ],
   "source": [
    "df.head()"
   ]
  },
  {
   "cell_type": "code",
   "execution_count": null,
   "metadata": {
    "collapsed": true
   },
   "outputs": [],
   "source": [
    "# specifies the parameters of our graphs\n",
    "fig = plt.figure(figsize=(18,6), dpi=1600) \n",
    "alpha=alpha_scatterplot = 0.2 \n",
    "alpha_bar_chart = 0.55"
   ]
  },
  {
   "cell_type": "code",
   "execution_count": 12,
   "metadata": {
    "collapsed": false
   },
   "outputs": [
    {
     "data": {
      "text/plain": [
       "<matplotlib.text.Text at 0x10e801d50>"
      ]
     },
     "execution_count": 12,
     "metadata": {},
     "output_type": "execute_result"
    },
    {
     "data": {
      "image/png": "[encoded data removed]",
      "text/plain": [
       "<matplotlib.figure.Figure at 0x10df995d0>"
      ]
     },
     "metadata": {},
     "output_type": "display_data"
    }
   ],
   "source": [
    "# lets us plot many diffrent shaped graphs together \n",
    "ax1 = plt.subplot2grid((2,3),(0,0))\n",
    "# plots a bar graph of those who surived vs those who did not.               \n",
    "df.Vote.value_counts().plot(kind='bar', alpha=alpha_bar_chart)\n",
    "# puts a title on our graph\n",
    "plt.title(\"Distribution of Votes\") "
   ]
  },
  {
   "cell_type": "markdown",
   "metadata": {},
   "source": [
    "#### add vote as int column"
   ]
  },
  {
   "cell_type": "code",
   "execution_count": 66,
   "metadata": {
    "collapsed": false
   },
   "outputs": [
    {
     "name": "stdout",
     "output_type": "stream",
     "text": [
      "Blues: 0\n",
      "Browns: 1\n",
      "Greens: 2\n",
      "Greys: 3\n",
      "Oranges: 4\n",
      "Pinks: 5\n",
      "Purples: 6\n",
      "Reds: 7\n",
      "Whites: 8\n",
      "Yellows: 9\n"
     ]
    }
   ],
   "source": [
    "f='Vote'\n",
    "df[f] = df[f].astype(\"category\")\n",
    "df[f+\"Int\"] = df[f].cat.rename_categories(range(df[f].nunique())).astype(int)\n",
    "df.loc[df[f].isnull(), f+\"Int\"] = np.nan #fix NaN conversion\n",
    "\n",
    "def print_vote_as_int():    \n",
    "    vote_options = np.asarray(df.Vote.astype('category').cat.categories)\n",
    "    for color in vote_options:\n",
    "        print (color + ': ' + str(int(df[df.Vote == color].iloc[0].VoteInt)))"
   ]
  },
  {
   "cell_type": "code",
   "execution_count": 67,
   "metadata": {
    "collapsed": false
   },
   "outputs": [
    {
     "name": "stdout",
     "output_type": "stream",
     "text": [
      "Blues: 0\n",
      "Browns: 1\n",
      "Greens: 2\n",
      "Greys: 3\n",
      "Oranges: 4\n",
      "Pinks: 5\n",
      "Purples: 6\n",
      "Reds: 7\n",
      "Whites: 8\n",
      "Yellows: 9\n"
     ]
    },
    {
     "data": {
      "image/png": "[encoded data removed]",
      "text/plain": [
       "<matplotlib.figure.Figure at 0x1101e8c50>"
      ]
     },
     "metadata": {},
     "output_type": "display_data"
    }
   ],
   "source": [
    "plt.subplot2grid((1,1),(0,0))\n",
    "plt.scatter(df.VoteInt, df.Occupation_Satisfaction, alpha=alpha_scatterplot)\n",
    "# sets the y axis lable\n",
    "plt.ylabel(\"Occupation_Satisfaction\")\n",
    "# formats the grid line style of our graphs                          \n",
    "plt.grid(b=True, which='major', axis='y')  \n",
    "plt.title(\"Vote by Occupation_Satisfaction\")\n",
    "print_vote_as_int()"
   ]
  },
  {
   "cell_type": "code",
   "execution_count": 85,
   "metadata": {
    "collapsed": false,
    "scrolled": true
   },
   "outputs": [
    {
     "data": {
      "text/plain": [
       "<matplotlib.legend.Legend at 0x1132f11d0>"
      ]
     },
     "execution_count": 85,
     "metadata": {},
     "output_type": "execute_result"
    },
    {
     "data": {
      "image/png": "[encoded data removed]",
      "text/plain": [
       "<matplotlib.figure.Figure at 0x112dbb610>"
      ]
     },
     "metadata": {},
     "output_type": "display_data"
    }
   ],
   "source": [
    "fig = plt.figure(figsize=(18,6))\n",
    "\n",
    "# create a plot of two subsets, male and female, of the survived variable.\n",
    "# After we do that we call value_counts() so it can be easily plotted as a bar graph. \n",
    "# 'barh' is just a horizontal bar graph\n",
    "ax1 = fig.add_subplot(121)\n",
    "df.Vote[df.Gender == 'Female'].value_counts().plot(kind='barh', color='#FA2379',label='Female')\n",
    "df.Vote[df.Gender == 'Male'].value_counts().plot(kind='barh',label='Male')\n",
    "# ax1.set_ylim(-1, 2) \n",
    "plt.title(\"Vote with respect to Gender, (raw value counts) \"); plt.legend(loc='best')\n",
    "\n",
    "# adjust graph to display the proportions of survival by gender\n",
    "ax2 = fig.add_subplot(122)\n",
    "(df.Vote[df.Gender == 'Male'].value_counts()/float(df.Gender[df.Gender == 'Male'].size)).plot(kind='barh',label='Male')  \n",
    "(df.Vote[df.Gender == 'Female'].value_counts()/float(df.Gender[df.Gender == 'Female'].size)).plot(kind='barh', color='#FA2379',label='Female')\n",
    "# ax2.set_ylim(-1, 2)\n",
    "plt.title(\"Vote with respect to Gender\"); plt.legend(loc='best')"
   ]
  },
  {
   "cell_type": "code",
   "execution_count": 74,
   "metadata": {
    "collapsed": false
   },
   "outputs": [
    {
     "data": {
      "text/plain": [
       "<matplotlib.text.Text at 0x1120b4050>"
      ]
     },
     "execution_count": 74,
     "metadata": {},
     "output_type": "execute_result"
    },
    {
     "data": {
      "image/png": "[encoded data removed]",
      "text/plain": [
       "<matplotlib.figure.Figure at 0x111f2c3d0>"
      ]
     },
     "metadata": {},
     "output_type": "display_data"
    }
   ],
   "source": [
    "df.Gender.value_counts().plot(kind='bar', alpha=alpha_bar_chart)\n",
    "plt.title(\"Distribution of Gender\") "
   ]
  },
  {
   "cell_type": "code",
   "execution_count": 102,
   "metadata": {
    "collapsed": false
   },
   "outputs": [
    {
     "data": {
      "text/plain": [
       "<matplotlib.legend.Legend at 0x114ee1290>"
      ]
     },
     "execution_count": 102,
     "metadata": {},
     "output_type": "execute_result"
    },
    {
     "data": {
      "image/png": "[encoded data removed]",
      "text/plain": [
       "<matplotlib.figure.Figure at 0x114f544d0>"
      ]
     },
     "metadata": {},
     "output_type": "display_data"
    }
   ],
   "source": [
    "fig = plt.figure(figsize=(18,4), dpi=1600)\n",
    "alpha_level = 0.65\n",
    "\n",
    "ax1=fig.add_subplot(141)\n",
    "female_married = df.Vote[df.Gender == 'Female'][df.Married == 'Yes'].value_counts()\n",
    "female_married.plot(kind='bar', label='female married', color='#FA2479', alpha=alpha_level)\n",
    "plt.legend(loc='best')\n",
    "\n",
    "ax2=fig.add_subplot(142)\n",
    "female_not_married = df.Vote[df.Gender == 'Female'][df.Married == 'No'].value_counts()\n",
    "female_not_married.plot(kind='bar', label='female not married', alpha=alpha_level)\n",
    "plt.legend(loc='best')\n",
    "\n",
    "ax1=fig.add_subplot(143)\n",
    "male_married = df.Vote[df.Gender == 'Male'][df.Married == 'Yes'].value_counts()\n",
    "male_married.plot(kind='bar', label='male married', color='#FA2479', alpha=alpha_level)\n",
    "plt.legend(loc='best')\n",
    "\n",
    "ax2=fig.add_subplot(144)\n",
    "male_not_married = df.Vote[df.Gender == 'Male'][df.Married == 'No'].value_counts()\n",
    "male_not_married.plot(kind='bar', label='male not married', alpha=alpha_level)\n",
    "plt.legend(loc='best')"
   ]
  }
 ],
 "metadata": {
  "kernelspec": {
   "display_name": "Python 2",
   "language": "python",
   "name": "python2"
  },
  "language_info": {
   "codemirror_mode": {
    "name": "ipython",
    "version": 2
   },
   "file_extension": ".py",
   "mimetype": "text/x-python",
   "name": "python",
   "nbconvert_exporter": "python",
   "pygments_lexer": "ipython2",
   "version": "2.7.10"
  }
 },
 "nbformat": 4,
 "nbformat_minor": 0
}
