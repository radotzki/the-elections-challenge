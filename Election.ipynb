{
 "cells": [
  {
   "cell_type": "code",
   "execution_count": 123,
   "metadata": {
    "collapsed": false
   },
   "outputs": [],
   "source": [
    "%matplotlib inline\n",
    "import math\n",
    "import pandas as pd\n",
    "import pylab as p\n",
    "alpha = 0.05\n",
    "unordered_nominal_columns = ['Most_Important_Issue', 'Main_transportation', 'Occupation']\n",
    "\n",
    "\n",
    "def convert_to_bool(df, *column_names):\n",
    "    for column_name in column_names:\n",
    "        df[column_name] = df[column_name].map(lambda x: 1 if x == \"Yes\" else (0 if x == 'No' else None))\n",
    "\n",
    "\n",
    "def identify_and_set_correct_types(df):\n",
    "    # boolean columns: Looking_at_poles_results Married Will_vote_only_large_party Financial_agenda_matters Voting_Time Gender\n",
    "    convert_to_bool(df, 'Looking_at_poles_results', 'Married', 'Will_vote_only_large_party', 'Financial_agenda_matters')\n",
    "    df['Gender'] = df['Gender'].map(lambda x: 1 if x == 'Male' else (0 if x == 'Female' else None))\n",
    "\n",
    "    # Ordered nominal columns: Age_group\n",
    "    df['Age_group'] = df['Age_group'].map(lambda x: 1 if x == \"Below_30\" else (2 if x == \"30-45\" else (3 if x == \"45_and_up\" else None)))\n",
    "    df['Age_group'] = df['Age_group'].astype('category', ordered=True)\n",
    "    df['Voting_Time'] = df['Voting_Time'].map(lambda x: 1 if x == 'By_16:00' else (2 if x == 'After_16:00' else None))\n",
    "    df['Voting_Time'] = df['Voting_Time'].astype('category', ordered=True)\n",
    "\n",
    "#     for col in unordered_nominal_columns:\n",
    "#         df[col] = df[col].astype('category', ordered=False)\n",
    "\n",
    "    return df\n",
    "\n",
    "\n",
    "def nominal_to_numeric(df):\n",
    "    # we are losing the missing data here\n",
    "    for col in unordered_nominal_columns:\n",
    "        partial = pd.get_dummies(df[col], col, '_')\n",
    "        df = df.join(partial)\n",
    "        del df[col]\n",
    "    return df\n",
    "\n",
    "\n",
    "def print_missing_values(df):\n",
    "    print '\\n\\nMissing values:'\n",
    "    for col in df.columns.values:\n",
    "        misCount = df[col].isnull().sum()\n",
    "        if misCount > 0:\n",
    "            print '%s: %s missing values' % (col, misCount)\n",
    "\n",
    "\n",
    "def data_imputation(df):\n",
    "    # method='nearset'\n",
    "    #return df.interpolate(method='linear')\n",
    "\n",
    "#   # median\n",
    "#    for col in df.columns.values:\n",
    "#        df[col] = df[col].fillna(df[col].median())\n",
    "        \n",
    "    return df\n",
    "\n",
    "def plot_log_density_function(df, column):\n",
    "    plot_density_function(df, column, lambda x: math.log(x))\n",
    "\n",
    "\n",
    "def plot_density_function(df, column, trans=lambda x: x):\n",
    "    df[column].plot(kind='kde')    \n",
    "    # p.savefig('foo.png')\n",
    "    # p.clf()\n",
    "    p.show()\n"
   ]
  },
  {
   "cell_type": "code",
   "execution_count": 144,
   "metadata": {
    "collapsed": false
   },
   "outputs": [
    {
     "data": {
      "text/html": [
       "<div>\n",
       "<table border=\"1\" class=\"dataframe\">\n",
       "  <thead>\n",
       "    <tr style=\"text-align: right;\">\n",
       "      <th></th>\n",
       "      <th>Occupation_Satisfaction</th>\n",
       "      <th>Avg_monthly_expense_when_under_age_21</th>\n",
       "      <th>AVG_lottary_expanses</th>\n",
       "      <th>Avg_Residancy_Altitude</th>\n",
       "      <th>Yearly_ExpensesK</th>\n",
       "      <th>Financial_balance_score_(0-1)</th>\n",
       "      <th>%Of_Household_Income</th>\n",
       "      <th>Avg_government_satisfaction</th>\n",
       "      <th>Avg_education_importance</th>\n",
       "      <th>Avg_environmental_importance</th>\n",
       "      <th>...</th>\n",
       "      <th>Avg_size_per_room</th>\n",
       "      <th>Weighted_education_rank</th>\n",
       "      <th>%_satisfaction_financial_policy</th>\n",
       "      <th>Garden_sqr_meter_per_person_in_residancy_area</th>\n",
       "      <th>Last_school_grades</th>\n",
       "      <th>Number_of_differnt_parties_voted_for</th>\n",
       "      <th>Political_interest_Total_Score</th>\n",
       "      <th>Number_of_valued_Kneset_members</th>\n",
       "      <th>Overall_happiness_score</th>\n",
       "      <th>Num_of_kids_born_last_10_years</th>\n",
       "    </tr>\n",
       "  </thead>\n",
       "  <tbody>\n",
       "    <tr>\n",
       "      <th>count</th>\n",
       "      <td>8168.000000</td>\n",
       "      <td>8168.000000</td>\n",
       "      <td>8168.000000</td>\n",
       "      <td>8168.000000</td>\n",
       "      <td>8168.000000</td>\n",
       "      <td>8168.000000</td>\n",
       "      <td>8168.000000</td>\n",
       "      <td>8168.000000</td>\n",
       "      <td>8168.000000</td>\n",
       "      <td>8168.000000</td>\n",
       "      <td>...</td>\n",
       "      <td>8168.000000</td>\n",
       "      <td>8168.000000</td>\n",
       "      <td>8168.000000</td>\n",
       "      <td>8168.000000</td>\n",
       "      <td>8168.000000</td>\n",
       "      <td>8168.000000</td>\n",
       "      <td>8168.000000</td>\n",
       "      <td>8168.000000</td>\n",
       "      <td>8168.000000</td>\n",
       "      <td>8168.000000</td>\n",
       "    </tr>\n",
       "    <tr>\n",
       "      <th>mean</th>\n",
       "      <td>5.521180</td>\n",
       "      <td>444.880470</td>\n",
       "      <td>74052.534755</td>\n",
       "      <td>148.293490</td>\n",
       "      <td>506.570169</td>\n",
       "      <td>0.503743</td>\n",
       "      <td>0.497976</td>\n",
       "      <td>4.979805</td>\n",
       "      <td>4.980646</td>\n",
       "      <td>4.945780</td>\n",
       "      <td>...</td>\n",
       "      <td>24.767447</td>\n",
       "      <td>819001.020307</td>\n",
       "      <td>50.095022</td>\n",
       "      <td>34272.714537</td>\n",
       "      <td>72.864838</td>\n",
       "      <td>1.994368</td>\n",
       "      <td>952.243446</td>\n",
       "      <td>10.481268</td>\n",
       "      <td>680.223839</td>\n",
       "      <td>0.689765</td>\n",
       "    </tr>\n",
       "    <tr>\n",
       "      <th>std</th>\n",
       "      <td>2.869735</td>\n",
       "      <td>330.340002</td>\n",
       "      <td>61917.142758</td>\n",
       "      <td>110.113334</td>\n",
       "      <td>172.404935</td>\n",
       "      <td>0.288324</td>\n",
       "      <td>0.286469</td>\n",
       "      <td>2.892392</td>\n",
       "      <td>2.898338</td>\n",
       "      <td>2.889963</td>\n",
       "      <td>...</td>\n",
       "      <td>3.230392</td>\n",
       "      <td>341495.930621</td>\n",
       "      <td>28.884903</td>\n",
       "      <td>55711.588576</td>\n",
       "      <td>20.197879</td>\n",
       "      <td>1.267355</td>\n",
       "      <td>178.224152</td>\n",
       "      <td>5.771570</td>\n",
       "      <td>154.123060</td>\n",
       "      <td>1.075221</td>\n",
       "    </tr>\n",
       "    <tr>\n",
       "      <th>min</th>\n",
       "      <td>1.000000</td>\n",
       "      <td>-394.030092</td>\n",
       "      <td>-81744.489527</td>\n",
       "      <td>-131.343364</td>\n",
       "      <td>0.349801</td>\n",
       "      <td>0.000193</td>\n",
       "      <td>0.000021</td>\n",
       "      <td>0.000616</td>\n",
       "      <td>0.000258</td>\n",
       "      <td>0.000580</td>\n",
       "      <td>...</td>\n",
       "      <td>1.070541</td>\n",
       "      <td>524.288150</td>\n",
       "      <td>0.005066</td>\n",
       "      <td>13.097572</td>\n",
       "      <td>30.000000</td>\n",
       "      <td>0.000000</td>\n",
       "      <td>29.055030</td>\n",
       "      <td>1.000000</td>\n",
       "      <td>3.153985</td>\n",
       "      <td>0.000000</td>\n",
       "    </tr>\n",
       "    <tr>\n",
       "      <th>25%</th>\n",
       "      <td>3.000000</td>\n",
       "      <td>196.448728</td>\n",
       "      <td>30020.492226</td>\n",
       "      <td>65.482909</td>\n",
       "      <td>402.951062</td>\n",
       "      <td>0.255969</td>\n",
       "      <td>0.249368</td>\n",
       "      <td>2.452850</td>\n",
       "      <td>2.467503</td>\n",
       "      <td>2.439931</td>\n",
       "      <td>...</td>\n",
       "      <td>23.956869</td>\n",
       "      <td>659876.831126</td>\n",
       "      <td>25.137525</td>\n",
       "      <td>4389.120819</td>\n",
       "      <td>60.000000</td>\n",
       "      <td>1.000000</td>\n",
       "      <td>875.080861</td>\n",
       "      <td>5.000000</td>\n",
       "      <td>610.799487</td>\n",
       "      <td>0.000000</td>\n",
       "    </tr>\n",
       "    <tr>\n",
       "      <th>50%</th>\n",
       "      <td>6.000000</td>\n",
       "      <td>365.139384</td>\n",
       "      <td>57808.027114</td>\n",
       "      <td>121.713128</td>\n",
       "      <td>445.945615</td>\n",
       "      <td>0.504244</td>\n",
       "      <td>0.496565</td>\n",
       "      <td>4.978188</td>\n",
       "      <td>4.944264</td>\n",
       "      <td>4.956069</td>\n",
       "      <td>...</td>\n",
       "      <td>24.674333</td>\n",
       "      <td>742475.977090</td>\n",
       "      <td>50.486613</td>\n",
       "      <td>14953.597901</td>\n",
       "      <td>70.000000</td>\n",
       "      <td>2.000000</td>\n",
       "      <td>945.740652</td>\n",
       "      <td>11.000000</td>\n",
       "      <td>680.964899</td>\n",
       "      <td>0.000000</td>\n",
       "    </tr>\n",
       "    <tr>\n",
       "      <th>75%</th>\n",
       "      <td>8.000000</td>\n",
       "      <td>622.052593</td>\n",
       "      <td>100501.179351</td>\n",
       "      <td>207.350864</td>\n",
       "      <td>596.617700</td>\n",
       "      <td>0.752151</td>\n",
       "      <td>0.742686</td>\n",
       "      <td>7.452653</td>\n",
       "      <td>7.523308</td>\n",
       "      <td>7.394469</td>\n",
       "      <td>...</td>\n",
       "      <td>25.896559</td>\n",
       "      <td>900862.356499</td>\n",
       "      <td>75.147797</td>\n",
       "      <td>43211.732016</td>\n",
       "      <td>90.000000</td>\n",
       "      <td>3.000000</td>\n",
       "      <td>1022.346527</td>\n",
       "      <td>15.000000</td>\n",
       "      <td>771.114540</td>\n",
       "      <td>1.000000</td>\n",
       "    </tr>\n",
       "    <tr>\n",
       "      <th>max</th>\n",
       "      <td>10.000000</td>\n",
       "      <td>2290.716172</td>\n",
       "      <td>640346.644820</td>\n",
       "      <td>763.572057</td>\n",
       "      <td>1000.000000</td>\n",
       "      <td>0.999966</td>\n",
       "      <td>0.999926</td>\n",
       "      <td>9.999888</td>\n",
       "      <td>9.999543</td>\n",
       "      <td>9.999985</td>\n",
       "      <td>...</td>\n",
       "      <td>31.622777</td>\n",
       "      <td>2002009.297226</td>\n",
       "      <td>99.974064</td>\n",
       "      <td>583815.858711</td>\n",
       "      <td>100.000000</td>\n",
       "      <td>7.000000</td>\n",
       "      <td>1499.648613</td>\n",
       "      <td>20.000000</td>\n",
       "      <td>999.999049</td>\n",
       "      <td>10.000000</td>\n",
       "    </tr>\n",
       "  </tbody>\n",
       "</table>\n",
       "<p>8 rows × 27 columns</p>\n",
       "</div>"
      ],
      "text/plain": [
       "       Occupation_Satisfaction  Avg_monthly_expense_when_under_age_21  \\\n",
       "count              8168.000000                            8168.000000   \n",
       "mean                  5.521180                             444.880470   \n",
       "std                   2.869735                             330.340002   \n",
       "min                   1.000000                            -394.030092   \n",
       "25%                   3.000000                             196.448728   \n",
       "50%                   6.000000                             365.139384   \n",
       "75%                   8.000000                             622.052593   \n",
       "max                  10.000000                            2290.716172   \n",
       "\n",
       "       AVG_lottary_expanses  Avg_Residancy_Altitude  Yearly_ExpensesK  \\\n",
       "count           8168.000000             8168.000000       8168.000000   \n",
       "mean           74052.534755              148.293490        506.570169   \n",
       "std            61917.142758              110.113334        172.404935   \n",
       "min           -81744.489527             -131.343364          0.349801   \n",
       "25%            30020.492226               65.482909        402.951062   \n",
       "50%            57808.027114              121.713128        445.945615   \n",
       "75%           100501.179351              207.350864        596.617700   \n",
       "max           640346.644820              763.572057       1000.000000   \n",
       "\n",
       "       Financial_balance_score_(0-1)  %Of_Household_Income  \\\n",
       "count                    8168.000000           8168.000000   \n",
       "mean                        0.503743              0.497976   \n",
       "std                         0.288324              0.286469   \n",
       "min                         0.000193              0.000021   \n",
       "25%                         0.255969              0.249368   \n",
       "50%                         0.504244              0.496565   \n",
       "75%                         0.752151              0.742686   \n",
       "max                         0.999966              0.999926   \n",
       "\n",
       "       Avg_government_satisfaction  Avg_education_importance  \\\n",
       "count                  8168.000000               8168.000000   \n",
       "mean                      4.979805                  4.980646   \n",
       "std                       2.892392                  2.898338   \n",
       "min                       0.000616                  0.000258   \n",
       "25%                       2.452850                  2.467503   \n",
       "50%                       4.978188                  4.944264   \n",
       "75%                       7.452653                  7.523308   \n",
       "max                       9.999888                  9.999543   \n",
       "\n",
       "       Avg_environmental_importance               ...                \\\n",
       "count                   8168.000000               ...                 \n",
       "mean                       4.945780               ...                 \n",
       "std                        2.889963               ...                 \n",
       "min                        0.000580               ...                 \n",
       "25%                        2.439931               ...                 \n",
       "50%                        4.956069               ...                 \n",
       "75%                        7.394469               ...                 \n",
       "max                        9.999985               ...                 \n",
       "\n",
       "       Avg_size_per_room  Weighted_education_rank  \\\n",
       "count        8168.000000              8168.000000   \n",
       "mean           24.767447            819001.020307   \n",
       "std             3.230392            341495.930621   \n",
       "min             1.070541               524.288150   \n",
       "25%            23.956869            659876.831126   \n",
       "50%            24.674333            742475.977090   \n",
       "75%            25.896559            900862.356499   \n",
       "max            31.622777           2002009.297226   \n",
       "\n",
       "       %_satisfaction_financial_policy  \\\n",
       "count                      8168.000000   \n",
       "mean                         50.095022   \n",
       "std                          28.884903   \n",
       "min                           0.005066   \n",
       "25%                          25.137525   \n",
       "50%                          50.486613   \n",
       "75%                          75.147797   \n",
       "max                          99.974064   \n",
       "\n",
       "       Garden_sqr_meter_per_person_in_residancy_area  Last_school_grades  \\\n",
       "count                                    8168.000000         8168.000000   \n",
       "mean                                    34272.714537           72.864838   \n",
       "std                                     55711.588576           20.197879   \n",
       "min                                        13.097572           30.000000   \n",
       "25%                                      4389.120819           60.000000   \n",
       "50%                                     14953.597901           70.000000   \n",
       "75%                                     43211.732016           90.000000   \n",
       "max                                    583815.858711          100.000000   \n",
       "\n",
       "       Number_of_differnt_parties_voted_for  Political_interest_Total_Score  \\\n",
       "count                           8168.000000                     8168.000000   \n",
       "mean                               1.994368                      952.243446   \n",
       "std                                1.267355                      178.224152   \n",
       "min                                0.000000                       29.055030   \n",
       "25%                                1.000000                      875.080861   \n",
       "50%                                2.000000                      945.740652   \n",
       "75%                                3.000000                     1022.346527   \n",
       "max                                7.000000                     1499.648613   \n",
       "\n",
       "       Number_of_valued_Kneset_members  Overall_happiness_score  \\\n",
       "count                      8168.000000              8168.000000   \n",
       "mean                         10.481268               680.223839   \n",
       "std                           5.771570               154.123060   \n",
       "min                           1.000000                 3.153985   \n",
       "25%                           5.000000               610.799487   \n",
       "50%                          11.000000               680.964899   \n",
       "75%                          15.000000               771.114540   \n",
       "max                          20.000000               999.999049   \n",
       "\n",
       "       Num_of_kids_born_last_10_years  \n",
       "count                     8168.000000  \n",
       "mean                         0.689765  \n",
       "std                          1.075221  \n",
       "min                          0.000000  \n",
       "25%                          0.000000  \n",
       "50%                          0.000000  \n",
       "75%                          1.000000  \n",
       "max                         10.000000  \n",
       "\n",
       "[8 rows x 27 columns]"
      ]
     },
     "execution_count": 144,
     "metadata": {},
     "output_type": "execute_result"
    }
   ],
   "source": [
    "df = pd.read_csv('./dataset/ElectionsData.csv')\n",
    "# df = identify_and_set_correct_types(df)\n",
    "df.dropna(inplace=True)\n",
    "df.describe()\n"
   ]
  },
  {
   "cell_type": "markdown",
   "metadata": {},
   "source": [
    "#### Remove not possible values"
   ]
  },
  {
   "cell_type": "code",
   "execution_count": 145,
   "metadata": {
    "collapsed": false
   },
   "outputs": [
    {
     "data": {
      "text/html": [
       "<div>\n",
       "<table border=\"1\" class=\"dataframe\">\n",
       "  <thead>\n",
       "    <tr style=\"text-align: right;\">\n",
       "      <th></th>\n",
       "      <th>Occupation_Satisfaction</th>\n",
       "      <th>Avg_monthly_expense_when_under_age_21</th>\n",
       "      <th>AVG_lottary_expanses</th>\n",
       "      <th>Avg_Residancy_Altitude</th>\n",
       "      <th>Yearly_ExpensesK</th>\n",
       "      <th>Financial_balance_score_(0-1)</th>\n",
       "      <th>%Of_Household_Income</th>\n",
       "      <th>Avg_government_satisfaction</th>\n",
       "      <th>Avg_education_importance</th>\n",
       "      <th>Avg_environmental_importance</th>\n",
       "      <th>...</th>\n",
       "      <th>Avg_size_per_room</th>\n",
       "      <th>Weighted_education_rank</th>\n",
       "      <th>%_satisfaction_financial_policy</th>\n",
       "      <th>Garden_sqr_meter_per_person_in_residancy_area</th>\n",
       "      <th>Last_school_grades</th>\n",
       "      <th>Number_of_differnt_parties_voted_for</th>\n",
       "      <th>Political_interest_Total_Score</th>\n",
       "      <th>Number_of_valued_Kneset_members</th>\n",
       "      <th>Overall_happiness_score</th>\n",
       "      <th>Num_of_kids_born_last_10_years</th>\n",
       "    </tr>\n",
       "  </thead>\n",
       "  <tbody>\n",
       "    <tr>\n",
       "      <th>count</th>\n",
       "      <td>8146.000000</td>\n",
       "      <td>8146.000000</td>\n",
       "      <td>8146.000000</td>\n",
       "      <td>8146.000000</td>\n",
       "      <td>8146.000000</td>\n",
       "      <td>8146.000000</td>\n",
       "      <td>8146.000000</td>\n",
       "      <td>8146.000000</td>\n",
       "      <td>8146.000000</td>\n",
       "      <td>8146.000000</td>\n",
       "      <td>...</td>\n",
       "      <td>8146.000000</td>\n",
       "      <td>8146.000000</td>\n",
       "      <td>8146.000000</td>\n",
       "      <td>8146.000000</td>\n",
       "      <td>8146.000000</td>\n",
       "      <td>8146.000000</td>\n",
       "      <td>8146.000000</td>\n",
       "      <td>8146.000000</td>\n",
       "      <td>8146.000000</td>\n",
       "      <td>8146.000000</td>\n",
       "    </tr>\n",
       "    <tr>\n",
       "      <th>mean</th>\n",
       "      <td>5.522956</td>\n",
       "      <td>446.468968</td>\n",
       "      <td>74321.716110</td>\n",
       "      <td>148.822989</td>\n",
       "      <td>506.541709</td>\n",
       "      <td>0.503540</td>\n",
       "      <td>0.498063</td>\n",
       "      <td>4.982672</td>\n",
       "      <td>4.979372</td>\n",
       "      <td>4.945439</td>\n",
       "      <td>...</td>\n",
       "      <td>24.766381</td>\n",
       "      <td>818976.248267</td>\n",
       "      <td>50.108953</td>\n",
       "      <td>34356.545844</td>\n",
       "      <td>72.838203</td>\n",
       "      <td>1.994108</td>\n",
       "      <td>952.181322</td>\n",
       "      <td>10.479254</td>\n",
       "      <td>680.166733</td>\n",
       "      <td>0.689786</td>\n",
       "    </tr>\n",
       "    <tr>\n",
       "      <th>std</th>\n",
       "      <td>2.870142</td>\n",
       "      <td>329.330048</td>\n",
       "      <td>61774.731444</td>\n",
       "      <td>109.776683</td>\n",
       "      <td>172.418320</td>\n",
       "      <td>0.288304</td>\n",
       "      <td>0.286474</td>\n",
       "      <td>2.892573</td>\n",
       "      <td>2.899884</td>\n",
       "      <td>2.889516</td>\n",
       "      <td>...</td>\n",
       "      <td>3.233278</td>\n",
       "      <td>341751.947436</td>\n",
       "      <td>28.891508</td>\n",
       "      <td>55763.009320</td>\n",
       "      <td>20.203327</td>\n",
       "      <td>1.266159</td>\n",
       "      <td>178.385937</td>\n",
       "      <td>5.771939</td>\n",
       "      <td>154.175791</td>\n",
       "      <td>1.075030</td>\n",
       "    </tr>\n",
       "    <tr>\n",
       "      <th>min</th>\n",
       "      <td>1.000000</td>\n",
       "      <td>3.988911</td>\n",
       "      <td>44.957092</td>\n",
       "      <td>1.329637</td>\n",
       "      <td>0.349801</td>\n",
       "      <td>0.000193</td>\n",
       "      <td>0.000021</td>\n",
       "      <td>0.000616</td>\n",
       "      <td>0.000258</td>\n",
       "      <td>0.000580</td>\n",
       "      <td>...</td>\n",
       "      <td>1.070541</td>\n",
       "      <td>524.288150</td>\n",
       "      <td>0.005066</td>\n",
       "      <td>13.097572</td>\n",
       "      <td>30.000000</td>\n",
       "      <td>0.000000</td>\n",
       "      <td>29.055030</td>\n",
       "      <td>1.000000</td>\n",
       "      <td>3.153985</td>\n",
       "      <td>0.000000</td>\n",
       "    </tr>\n",
       "    <tr>\n",
       "      <th>25%</th>\n",
       "      <td>3.000000</td>\n",
       "      <td>198.312808</td>\n",
       "      <td>30209.803690</td>\n",
       "      <td>66.104269</td>\n",
       "      <td>403.090898</td>\n",
       "      <td>0.255858</td>\n",
       "      <td>0.249304</td>\n",
       "      <td>2.460754</td>\n",
       "      <td>2.466062</td>\n",
       "      <td>2.440019</td>\n",
       "      <td>...</td>\n",
       "      <td>23.957544</td>\n",
       "      <td>659979.428242</td>\n",
       "      <td>25.176596</td>\n",
       "      <td>4445.878947</td>\n",
       "      <td>60.000000</td>\n",
       "      <td>1.000000</td>\n",
       "      <td>875.068070</td>\n",
       "      <td>5.000000</td>\n",
       "      <td>610.950290</td>\n",
       "      <td>0.000000</td>\n",
       "    </tr>\n",
       "    <tr>\n",
       "      <th>50%</th>\n",
       "      <td>6.000000</td>\n",
       "      <td>366.621173</td>\n",
       "      <td>57927.372083</td>\n",
       "      <td>122.207058</td>\n",
       "      <td>445.909060</td>\n",
       "      <td>0.503419</td>\n",
       "      <td>0.496640</td>\n",
       "      <td>4.983254</td>\n",
       "      <td>4.943491</td>\n",
       "      <td>4.956069</td>\n",
       "      <td>...</td>\n",
       "      <td>24.673545</td>\n",
       "      <td>742408.532152</td>\n",
       "      <td>50.469529</td>\n",
       "      <td>15066.772072</td>\n",
       "      <td>70.000000</td>\n",
       "      <td>2.000000</td>\n",
       "      <td>945.653768</td>\n",
       "      <td>11.000000</td>\n",
       "      <td>680.877369</td>\n",
       "      <td>0.000000</td>\n",
       "    </tr>\n",
       "    <tr>\n",
       "      <th>75%</th>\n",
       "      <td>8.000000</td>\n",
       "      <td>623.146085</td>\n",
       "      <td>100656.179475</td>\n",
       "      <td>207.715362</td>\n",
       "      <td>596.228952</td>\n",
       "      <td>0.752043</td>\n",
       "      <td>0.742688</td>\n",
       "      <td>7.458120</td>\n",
       "      <td>7.522793</td>\n",
       "      <td>7.394158</td>\n",
       "      <td>...</td>\n",
       "      <td>25.892530</td>\n",
       "      <td>900211.299493</td>\n",
       "      <td>75.171680</td>\n",
       "      <td>43363.387509</td>\n",
       "      <td>90.000000</td>\n",
       "      <td>3.000000</td>\n",
       "      <td>1022.235209</td>\n",
       "      <td>15.000000</td>\n",
       "      <td>770.758095</td>\n",
       "      <td>1.000000</td>\n",
       "    </tr>\n",
       "    <tr>\n",
       "      <th>max</th>\n",
       "      <td>10.000000</td>\n",
       "      <td>2290.716172</td>\n",
       "      <td>640346.644820</td>\n",
       "      <td>763.572057</td>\n",
       "      <td>1000.000000</td>\n",
       "      <td>0.999966</td>\n",
       "      <td>0.999926</td>\n",
       "      <td>9.999888</td>\n",
       "      <td>9.999543</td>\n",
       "      <td>9.999985</td>\n",
       "      <td>...</td>\n",
       "      <td>31.622777</td>\n",
       "      <td>2002009.297226</td>\n",
       "      <td>99.974064</td>\n",
       "      <td>583815.858711</td>\n",
       "      <td>100.000000</td>\n",
       "      <td>7.000000</td>\n",
       "      <td>1499.648613</td>\n",
       "      <td>20.000000</td>\n",
       "      <td>999.999049</td>\n",
       "      <td>10.000000</td>\n",
       "    </tr>\n",
       "  </tbody>\n",
       "</table>\n",
       "<p>8 rows × 27 columns</p>\n",
       "</div>"
      ],
      "text/plain": [
       "       Occupation_Satisfaction  Avg_monthly_expense_when_under_age_21  \\\n",
       "count              8146.000000                            8146.000000   \n",
       "mean                  5.522956                             446.468968   \n",
       "std                   2.870142                             329.330048   \n",
       "min                   1.000000                               3.988911   \n",
       "25%                   3.000000                             198.312808   \n",
       "50%                   6.000000                             366.621173   \n",
       "75%                   8.000000                             623.146085   \n",
       "max                  10.000000                            2290.716172   \n",
       "\n",
       "       AVG_lottary_expanses  Avg_Residancy_Altitude  Yearly_ExpensesK  \\\n",
       "count           8146.000000             8146.000000       8146.000000   \n",
       "mean           74321.716110              148.822989        506.541709   \n",
       "std            61774.731444              109.776683        172.418320   \n",
       "min               44.957092                1.329637          0.349801   \n",
       "25%            30209.803690               66.104269        403.090898   \n",
       "50%            57927.372083              122.207058        445.909060   \n",
       "75%           100656.179475              207.715362        596.228952   \n",
       "max           640346.644820              763.572057       1000.000000   \n",
       "\n",
       "       Financial_balance_score_(0-1)  %Of_Household_Income  \\\n",
       "count                    8146.000000           8146.000000   \n",
       "mean                        0.503540              0.498063   \n",
       "std                         0.288304              0.286474   \n",
       "min                         0.000193              0.000021   \n",
       "25%                         0.255858              0.249304   \n",
       "50%                         0.503419              0.496640   \n",
       "75%                         0.752043              0.742688   \n",
       "max                         0.999966              0.999926   \n",
       "\n",
       "       Avg_government_satisfaction  Avg_education_importance  \\\n",
       "count                  8146.000000               8146.000000   \n",
       "mean                      4.982672                  4.979372   \n",
       "std                       2.892573                  2.899884   \n",
       "min                       0.000616                  0.000258   \n",
       "25%                       2.460754                  2.466062   \n",
       "50%                       4.983254                  4.943491   \n",
       "75%                       7.458120                  7.522793   \n",
       "max                       9.999888                  9.999543   \n",
       "\n",
       "       Avg_environmental_importance               ...                \\\n",
       "count                   8146.000000               ...                 \n",
       "mean                       4.945439               ...                 \n",
       "std                        2.889516               ...                 \n",
       "min                        0.000580               ...                 \n",
       "25%                        2.440019               ...                 \n",
       "50%                        4.956069               ...                 \n",
       "75%                        7.394158               ...                 \n",
       "max                        9.999985               ...                 \n",
       "\n",
       "       Avg_size_per_room  Weighted_education_rank  \\\n",
       "count        8146.000000              8146.000000   \n",
       "mean           24.766381            818976.248267   \n",
       "std             3.233278            341751.947436   \n",
       "min             1.070541               524.288150   \n",
       "25%            23.957544            659979.428242   \n",
       "50%            24.673545            742408.532152   \n",
       "75%            25.892530            900211.299493   \n",
       "max            31.622777           2002009.297226   \n",
       "\n",
       "       %_satisfaction_financial_policy  \\\n",
       "count                      8146.000000   \n",
       "mean                         50.108953   \n",
       "std                          28.891508   \n",
       "min                           0.005066   \n",
       "25%                          25.176596   \n",
       "50%                          50.469529   \n",
       "75%                          75.171680   \n",
       "max                          99.974064   \n",
       "\n",
       "       Garden_sqr_meter_per_person_in_residancy_area  Last_school_grades  \\\n",
       "count                                    8146.000000         8146.000000   \n",
       "mean                                    34356.545844           72.838203   \n",
       "std                                     55763.009320           20.203327   \n",
       "min                                        13.097572           30.000000   \n",
       "25%                                      4445.878947           60.000000   \n",
       "50%                                     15066.772072           70.000000   \n",
       "75%                                     43363.387509           90.000000   \n",
       "max                                    583815.858711          100.000000   \n",
       "\n",
       "       Number_of_differnt_parties_voted_for  Political_interest_Total_Score  \\\n",
       "count                           8146.000000                     8146.000000   \n",
       "mean                               1.994108                      952.181322   \n",
       "std                                1.266159                      178.385937   \n",
       "min                                0.000000                       29.055030   \n",
       "25%                                1.000000                      875.068070   \n",
       "50%                                2.000000                      945.653768   \n",
       "75%                                3.000000                     1022.235209   \n",
       "max                                7.000000                     1499.648613   \n",
       "\n",
       "       Number_of_valued_Kneset_members  Overall_happiness_score  \\\n",
       "count                      8146.000000              8146.000000   \n",
       "mean                         10.479254               680.166733   \n",
       "std                           5.771939               154.175791   \n",
       "min                           1.000000                 3.153985   \n",
       "25%                           5.000000               610.950290   \n",
       "50%                          11.000000               680.877369   \n",
       "75%                          15.000000               770.758095   \n",
       "max                          20.000000               999.999049   \n",
       "\n",
       "       Num_of_kids_born_last_10_years  \n",
       "count                     8146.000000  \n",
       "mean                         0.689786  \n",
       "std                          1.075030  \n",
       "min                          0.000000  \n",
       "25%                          0.000000  \n",
       "50%                          0.000000  \n",
       "75%                          1.000000  \n",
       "max                         10.000000  \n",
       "\n",
       "[8 rows x 27 columns]"
      ]
     },
     "execution_count": 145,
     "metadata": {},
     "output_type": "execute_result"
    }
   ],
   "source": [
    "df=df[df['Avg_monthly_expense_when_under_age_21']>=0]\n",
    "df=df[df['AVG_lottary_expanses']>=0]\n",
    "df.describe()"
   ]
  },
  {
   "cell_type": "code",
   "execution_count": 146,
   "metadata": {
    "collapsed": false
   },
   "outputs": [],
   "source": [
    "import numpy as np\n",
    "# Identify which of the orginal features are objects\n",
    "ObjFeat=df.keys()[df.dtypes.map(lambda x: x=='object')]\n",
    "\n",
    "# Transform the original features to categorical\n",
    "# Creat new 'int' features, resp.\n",
    "\n",
    "for f in ObjFeat:\n",
    "    df[f] = df[f].astype(\"category\")\n",
    "    df[f+\"Int\"] = df[f].cat.rename_categories(range(df[f].nunique())).astype(int)\n",
    "    df.loc[df[f].isnull(), f+\"Int\"] = np.nan #fix NaN conversion\n",
    "    df[f]=df[f+\"Int\"]\n",
    "    del df[f+\"Int\"]"
   ]
  },
  {
   "cell_type": "markdown",
   "metadata": {},
   "source": [
    "#### Testing for normal distribution:"
   ]
  },
  {
   "cell_type": "code",
   "execution_count": 147,
   "metadata": {
    "collapsed": false
   },
   "outputs": [
    {
     "name": "stdout",
     "output_type": "stream",
     "text": [
      "0.0: Occupation_Satisfaction\n",
      "0.0: Avg_monthly_expense_when_under_age_21\n",
      "0.0: AVG_lottary_expanses\n",
      "0.0: Avg_Residancy_Altitude\n",
      "0.0: Yearly_ExpensesK\n",
      "2.10194769649e-44: Financial_balance_score_(0-1)\n"
     ]
    },
    {
     "data": {
      "image/png": "[encoded data removed]",
      "text/plain": [
       "<matplotlib.figure.Figure at 0x10ac13090>"
      ]
     },
     "metadata": {},
     "output_type": "display_data"
    },
    {
     "name": "stdout",
     "output_type": "stream",
     "text": [
      "1.07899981753e-43: %Of_Household_Income\n"
     ]
    },
    {
     "data": {
      "image/png": "[encoded data removed]",
      "text/plain": [
       "<matplotlib.figure.Figure at 0x107d70bd0>"
      ]
     },
     "metadata": {},
     "output_type": "display_data"
    },
    {
     "name": "stdout",
     "output_type": "stream",
     "text": [
      "1.12103877146e-44: Avg_government_satisfaction\n"
     ]
    },
    {
     "data": {
      "image/png": "[encoded data removed]",
      "text/plain": [
       "<matplotlib.figure.Figure at 0x10bde6790>"
      ]
     },
     "metadata": {},
     "output_type": "display_data"
    },
    {
     "name": "stdout",
     "output_type": "stream",
     "text": [
      "5.6051938573e-45: Avg_education_importance\n"
     ]
    },
    {
     "data": {
      "image/png": "[encoded data removed]",
      "text/plain": [
       "<matplotlib.figure.Figure at 0x10b25cd10>"
      ]
     },
     "metadata": {},
     "output_type": "display_data"
    },
    {
     "name": "stdout",
     "output_type": "stream",
     "text": [
      "2.80259692865e-44: Avg_environmental_importance\n"
     ]
    },
    {
     "data": {
      "image/png": "[encoded data removed]",
      "text/plain": [
       "<matplotlib.figure.Figure at 0x10b24bb10>"
      ]
     },
     "metadata": {},
     "output_type": "display_data"
    },
    {
     "name": "stdout",
     "output_type": "stream",
     "text": [
      "6.86636247519e-44: Avg_Satisfaction_with_previous_vote\n"
     ]
    },
    {
     "data": {
      "image/png": "[encoded data removed]",
      "text/plain": [
       "<matplotlib.figure.Figure at 0x10ac08d10>"
      ]
     },
     "metadata": {},
     "output_type": "display_data"
    },
    {
     "name": "stdout",
     "output_type": "stream",
     "text": [
      "3.78350585368e-44: Avg_monthly_income_all_years\n"
     ]
    },
    {
     "data": {
      "image/png": "[encoded data removed]",
      "text/plain": [
       "<matplotlib.figure.Figure at 0x107212210>"
      ]
     },
     "metadata": {},
     "output_type": "display_data"
    },
    {
     "name": "stdout",
     "output_type": "stream",
     "text": [
      "2.38220738935e-44: %Time_invested_in_work\n"
     ]
    },
    {
     "data": {
      "image/png": "[encoded data removed]",
      "text/plain": [
       "<matplotlib.figure.Figure at 0x10be26410>"
      ]
     },
     "metadata": {},
     "output_type": "display_data"
    },
    {
     "name": "stdout",
     "output_type": "stream",
     "text": [
      "0.0: Yearly_IncomeK\n",
      "0.0: Avg_monthly_expense_on_pets_or_plants\n",
      "0.0: Avg_monthly_household_cost\n",
      "0.0: Phone_minutes_10_years\n",
      "0.0: Avg_size_per_room\n",
      "0.0: Weighted_education_rank\n",
      "1.26116861789e-44: %_satisfaction_financial_policy\n"
     ]
    },
    {
     "data": {
      "image/png": "[encoded data removed]",
      "text/plain": [
       "<matplotlib.figure.Figure at 0x10aff0110>"
      ]
     },
     "metadata": {},
     "output_type": "display_data"
    },
    {
     "name": "stdout",
     "output_type": "stream",
     "text": [
      "0.0: Garden_sqr_meter_per_person_in_residancy_area\n",
      "0.0: Last_school_grades\n",
      "0.0: Number_of_differnt_parties_voted_for\n",
      "0.0: Political_interest_Total_Score\n",
      "0.0: Number_of_valued_Kneset_members\n",
      "0.0: Overall_happiness_score\n",
      "0.0: Num_of_kids_born_last_10_years\n"
     ]
    }
   ],
   "source": [
    "import scipy\n",
    "i=0\n",
    "not_normal =[]\n",
    "for c in df.columns:    \n",
    "    if c not in ObjFeat:\n",
    "        #lets test for normal distribution        \n",
    "        v=scipy.stats.shapiro(df[c])[1]\n",
    "        print str(v) + \": \" + c\n",
    "        if v>0:\n",
    "            not_normal.append(c)            \n",
    "            plot_density_function(df,c)\n",
    "    i+=1"
   ]
  },
  {
   "cell_type": "markdown",
   "metadata": {},
   "source": [
    "Looking at the distribution functions for the not normally distributed features, we see they are uniformly distributed, so let's transform them to normal distribution."
   ]
  },
  {
   "cell_type": "code",
   "execution_count": 148,
   "metadata": {
    "collapsed": false,
    "scrolled": true
   },
   "outputs": [],
   "source": [
    "# This create negativ values - we need to go over it and see why\n",
    "\n",
    "# zero_to_one = [f for f in not_normal if df[f].min()>0 and df[f].min()<0.001 and df[f].max()<1 and df[f].max()>0.999]\n",
    "# zero_to_ten = [f for f in not_normal if df[f].min()>0 and df[f].min()<0.01 and df[f].max()<10 and df[f].max()>9.99]\n",
    "# zero_to_hundred = [f for f in not_normal if df[f].min()>0 and df[f].min()<0.1 and df[f].max()<100 and df[f].max()>99.9]\n",
    "# for f in not_normal:    \n",
    "#     min= 0 if f in zero_to_one or f in zero_to_ten or f in zero_to_hundred else df[f].min()\n",
    "#     max= 1 if f in zero_to_one else (10 if f in zero_to_ten else 100 if f in zero_to_hundred else df[f].max())\n",
    "# #     print f + \" max: \"+str(max) + \" min: \" +str(min) + \" max-min: \" + str(max-min)\n",
    "#     df[f+\"Normal\"] = df[f].map(lambda x: scipy.stats.norm.ppf((x-min)/(max-min)))     \n"
   ]
  },
  {
   "cell_type": "markdown",
   "metadata": {},
   "source": [
    "#### getting rid of infinite values, we can't handle them, so we'll use the next best thing"
   ]
  },
  {
   "cell_type": "code",
   "execution_count": 149,
   "metadata": {
    "collapsed": false
   },
   "outputs": [],
   "source": [
    "df.replace([np.inf,-np.inf], np.nan, inplace=True)\n",
    "df.dropna(inplace=True)"
   ]
  },
  {
   "cell_type": "code",
   "execution_count": 150,
   "metadata": {
    "collapsed": false
   },
   "outputs": [
    {
     "name": "stdout",
     "output_type": "stream",
     "text": [
      "0.0: Occupation_Satisfaction\n",
      "0.0: Avg_monthly_expense_when_under_age_21\n",
      "0.0: AVG_lottary_expanses\n",
      "0.0: Avg_Residancy_Altitude\n",
      "0.0: Yearly_ExpensesK\n",
      "2.10194769649e-44: Financial_balance_score_(0-1)\n",
      "1.07899981753e-43: %Of_Household_Income\n",
      "1.12103877146e-44: Avg_government_satisfaction\n",
      "5.6051938573e-45: Avg_education_importance\n",
      "2.80259692865e-44: Avg_environmental_importance\n",
      "6.86636247519e-44: Avg_Satisfaction_with_previous_vote\n",
      "3.78350585368e-44: Avg_monthly_income_all_years\n",
      "2.38220738935e-44: %Time_invested_in_work\n",
      "0.0: Yearly_IncomeK\n",
      "0.0: Avg_monthly_expense_on_pets_or_plants\n",
      "0.0: Avg_monthly_household_cost\n",
      "0.0: Phone_minutes_10_years\n",
      "0.0: Avg_size_per_room\n",
      "0.0: Weighted_education_rank\n",
      "1.26116861789e-44: %_satisfaction_financial_policy\n",
      "0.0: Garden_sqr_meter_per_person_in_residancy_area\n",
      "0.0: Last_school_grades\n",
      "0.0: Number_of_differnt_parties_voted_for\n",
      "0.0: Political_interest_Total_Score\n",
      "0.0: Number_of_valued_Kneset_members\n",
      "0.0: Overall_happiness_score\n",
      "0.0: Num_of_kids_born_last_10_years\n"
     ]
    }
   ],
   "source": [
    "import scipy\n",
    "i=0\n",
    "not_normal =[]\n",
    "for c in df.columns:    \n",
    "    if c not in ObjFeat:\n",
    "        #lets test for normal distribution        \n",
    "        v=scipy.stats.shapiro(df[c])[1]\n",
    "        print str(v) + \": \" + c\n",
    "        if v>0:\n",
    "            not_normal.append(c)                       \n",
    "    i+=1"
   ]
  },
  {
   "cell_type": "code",
   "execution_count": 151,
   "metadata": {
    "collapsed": false
   },
   "outputs": [
    {
     "name": "stdout",
     "output_type": "stream",
     "text": [
      "9.0:1590.08292658\n",
      "7.0:1125.5543959\n",
      "8.0:46993.0960352\n",
      "0.0:1584.52693781\n",
      "4.0:13389.2867845\n",
      "3.0:425.157292251\n",
      "1.0:66960.7707982\n",
      "2.0:53194.3004038\n",
      "5.0:79685.5376568\n",
      "6.0:9483.9057161\n"
     ]
    }
   ],
   "source": [
    "#what about the second assumption: The variance in each group is the same?\n",
    "for vote in df.Vote.unique():\n",
    "    print str(vote) + \":\"  + str(df[df.Vote==vote]['Yearly_IncomeK'].var())\n",
    "#or is it really the hipothesis and not an assumption? we should email him to understand if there's an error in the slides\n",
    "#lets ignore it for now"
   ]
  },
  {
   "cell_type": "code",
   "execution_count": 152,
   "metadata": {
    "collapsed": false,
    "scrolled": true
   },
   "outputs": [
    {
     "name": "stdout",
     "output_type": "stream",
     "text": [
      "<class 'pandas.core.frame.DataFrame'>\n",
      "Int64Index: 8146 entries, 0 to 9998\n",
      "Data columns (total 38 columns):\n",
      "Vote                                             8146 non-null float64\n",
      "Occupation_Satisfaction                          8146 non-null float64\n",
      "Avg_monthly_expense_when_under_age_21            8146 non-null float64\n",
      "AVG_lottary_expanses                             8146 non-null float64\n",
      "Most_Important_Issue                             8146 non-null float64\n",
      "Avg_Residancy_Altitude                           8146 non-null float64\n",
      "Looking_at_poles_results                         8146 non-null float64\n",
      "Yearly_ExpensesK                                 8146 non-null float64\n",
      "Married                                          8146 non-null float64\n",
      "Gender                                           8146 non-null float64\n",
      "Voting_Time                                      8146 non-null float64\n",
      "Financial_balance_score_(0-1)                    8146 non-null float64\n",
      "%Of_Household_Income                             8146 non-null float64\n",
      "Avg_government_satisfaction                      8146 non-null float64\n",
      "Avg_education_importance                         8146 non-null float64\n",
      "Avg_environmental_importance                     8146 non-null float64\n",
      "Avg_Satisfaction_with_previous_vote              8146 non-null float64\n",
      "Avg_monthly_income_all_years                     8146 non-null float64\n",
      "%Time_invested_in_work                           8146 non-null float64\n",
      "Yearly_IncomeK                                   8146 non-null float64\n",
      "Avg_monthly_expense_on_pets_or_plants            8146 non-null float64\n",
      "Avg_monthly_household_cost                       8146 non-null float64\n",
      "Will_vote_only_large_party                       8146 non-null float64\n",
      "Phone_minutes_10_years                           8146 non-null float64\n",
      "Avg_size_per_room                                8146 non-null float64\n",
      "Weighted_education_rank                          8146 non-null float64\n",
      "%_satisfaction_financial_policy                  8146 non-null float64\n",
      "Garden_sqr_meter_per_person_in_residancy_area    8146 non-null float64\n",
      "Last_school_grades                               8146 non-null float64\n",
      "Age_group                                        8146 non-null float64\n",
      "Number_of_differnt_parties_voted_for             8146 non-null float64\n",
      "Political_interest_Total_Score                   8146 non-null float64\n",
      "Number_of_valued_Kneset_members                  8146 non-null float64\n",
      "Main_transportation                              8146 non-null float64\n",
      "Occupation                                       8146 non-null float64\n",
      "Overall_happiness_score                          8146 non-null float64\n",
      "Num_of_kids_born_last_10_years                   8146 non-null float64\n",
      "Financial_agenda_matters                         8146 non-null float64\n",
      "dtypes: float64(38)\n",
      "memory usage: 2.4 MB\n"
     ]
    }
   ],
   "source": [
    "df.info()"
   ]
  },
  {
   "cell_type": "markdown",
   "metadata": {},
   "source": [
    "### Convert to Numpy array"
   ]
  },
  {
   "cell_type": "code",
   "execution_count": 153,
   "metadata": {
    "collapsed": false
   },
   "outputs": [],
   "source": [
    "df_X_noNaN = df.drop(['Vote'], axis=1).values\n",
    "df_Y_noNaN = df.Vote.values"
   ]
  },
  {
   "cell_type": "markdown",
   "metadata": {},
   "source": [
    "## Filters (Features Selection)"
   ]
  },
  {
   "cell_type": "markdown",
   "metadata": {},
   "source": [
    "### Applying chi2 for nominal values:"
   ]
  },
  {
   "cell_type": "code",
   "execution_count": 154,
   "metadata": {
    "collapsed": false
   },
   "outputs": [
    {
     "name": "stdout",
     "output_type": "stream",
     "text": [
      "0.0: Most_Important_Issue\n",
      "0.0: Looking_at_poles_results\n",
      "2.11157371268e-116: Married\n",
      "0.979486951977: Gender\n",
      "0.543189363847: Voting_Time\n",
      "2.5239068613e-76: Will_vote_only_large_party\n",
      "0.628214501735: Age_group\n",
      "0.25193533582: Main_transportation\n",
      "0.0657004618364: Occupation\n",
      "0.0: Financial_agenda_matters\n"
     ]
    }
   ],
   "source": [
    "from sklearn.feature_selection import chi2\n",
    "v=chi2(df_X_noNaN, df_Y_noNaN)[1]\n",
    "\n",
    "i=0\n",
    "features_to_keep=[]\n",
    "\n",
    "for c in df.drop(['Vote'], axis=1).columns:    \n",
    "    if c in ObjFeat:\n",
    "        print  str(v[i]) +\": \" + c\n",
    "        if v[i]<alpha:\n",
    "            features_to_keep.append(c)            \n",
    "    i+=1"
   ]
  },
  {
   "cell_type": "code",
   "execution_count": 155,
   "metadata": {
    "collapsed": false
   },
   "outputs": [
    {
     "data": {
      "text/plain": [
       "['Most_Important_Issue',\n",
       " 'Looking_at_poles_results',\n",
       " 'Married',\n",
       " 'Will_vote_only_large_party',\n",
       " 'Financial_agenda_matters']"
      ]
     },
     "execution_count": 155,
     "metadata": {},
     "output_type": "execute_result"
    }
   ],
   "source": [
    "features_to_keep"
   ]
  },
  {
   "cell_type": "markdown",
   "metadata": {},
   "source": [
    "### Now we would like to apply ANOVA for the numeric values\n",
    "but there are 2 assumptions:\n",
    "- The distribution in each group is normal.\n",
    "- The variance in each group is the same."
   ]
  },
  {
   "cell_type": "code",
   "execution_count": 156,
   "metadata": {
    "collapsed": false,
    "scrolled": true
   },
   "outputs": [
    {
     "name": "stdout",
     "output_type": "stream",
     "text": [
      "0.0: Occupation_Satisfaction\n",
      "0.0: Avg_monthly_expense_when_under_age_21\n",
      "1.39936511704e-181: AVG_lottary_expanses\n",
      "0.0: Avg_Residancy_Altitude\n",
      "0.0: Yearly_ExpensesK\n",
      "0.321166174073: Financial_balance_score_(0-1)\n",
      "0.862921643812: %Of_Household_Income\n",
      "0.658406948155: Avg_government_satisfaction\n",
      "0.907063729355: Avg_education_importance\n",
      "0.463997124685: Avg_environmental_importance\n",
      "0.307998178074: Avg_Satisfaction_with_previous_vote\n",
      "0.956600303899: Avg_monthly_income_all_years\n",
      "0.0: %Time_invested_in_work\n",
      "0.0: Yearly_IncomeK\n",
      "0.0: Avg_monthly_expense_on_pets_or_plants\n",
      "0.0: Avg_monthly_household_cost\n",
      "0.0: Phone_minutes_10_years\n",
      "0.0: Avg_size_per_room\n",
      "0.153553760405: Weighted_education_rank\n",
      "0.0: %_satisfaction_financial_policy\n",
      "0.0: Garden_sqr_meter_per_person_in_residancy_area\n",
      "0.30722454142: Last_school_grades\n",
      "0.0: Number_of_differnt_parties_voted_for\n",
      "0.150051985529: Political_interest_Total_Score\n",
      "0.139921860668: Number_of_valued_Kneset_members\n",
      "0.441615864728: Overall_happiness_score\n",
      "0.0: Num_of_kids_born_last_10_years\n"
     ]
    }
   ],
   "source": [
    "import sklearn\n",
    "v=sklearn.feature_selection.f_classif(df_X_noNaN, df_Y_noNaN)[1]\n",
    "i=0\n",
    "for c in df.columns:    \n",
    "    if c not in ObjFeat:        \n",
    "        print  str(v[i]) + \": \" + c\n",
    "        if v[i]<alpha: #what is the null hipothesis? should we keep features with low value or high value?\n",
    "            features_to_keep.append(c)            \n",
    "    i+=1\n",
    "    \n"
   ]
  },
  {
   "cell_type": "code",
   "execution_count": 157,
   "metadata": {
    "collapsed": false
   },
   "outputs": [
    {
     "data": {
      "text/plain": [
       "['Most_Important_Issue',\n",
       " 'Looking_at_poles_results',\n",
       " 'Married',\n",
       " 'Will_vote_only_large_party',\n",
       " 'Financial_agenda_matters',\n",
       " 'Occupation_Satisfaction',\n",
       " 'Avg_monthly_expense_when_under_age_21',\n",
       " 'AVG_lottary_expanses',\n",
       " 'Avg_Residancy_Altitude',\n",
       " 'Yearly_ExpensesK',\n",
       " '%Time_invested_in_work',\n",
       " 'Yearly_IncomeK',\n",
       " 'Avg_monthly_expense_on_pets_or_plants',\n",
       " 'Avg_monthly_household_cost',\n",
       " 'Phone_minutes_10_years',\n",
       " 'Avg_size_per_room',\n",
       " '%_satisfaction_financial_policy',\n",
       " 'Garden_sqr_meter_per_person_in_residancy_area',\n",
       " 'Number_of_differnt_parties_voted_for',\n",
       " 'Num_of_kids_born_last_10_years']"
      ]
     },
     "execution_count": 157,
     "metadata": {},
     "output_type": "execute_result"
    }
   ],
   "source": [
    "features_to_keep"
   ]
  },
  {
   "cell_type": "markdown",
   "metadata": {},
   "source": [
    "All the features that were uniformly distributed seem insignificant by this test, did we do anything wrong? \n",
    "<br><b>Yes, we apply the test with the wrong variables. Now we are using two vectors: </b>\n",
    "1. vector X - feature vector without the lable\n",
    "2. vector Y - lable vector"
   ]
  },
  {
   "cell_type": "markdown",
   "metadata": {},
   "source": [
    "#### Lets compare mean by class, maybe we'll find more significant features:"
   ]
  },
  {
   "cell_type": "code",
   "execution_count": 158,
   "metadata": {
    "collapsed": false
   },
   "outputs": [
    {
     "name": "stdout",
     "output_type": "stream",
     "text": [
      "Vote\n",
      "0.0:0.0\n",
      "1.0:1.0\n",
      "2.0:2.0\n",
      "3.0:3.0\n",
      "4.0:4.0\n",
      "5.0:5.0\n",
      "6.0:6.0\n",
      "7.0:7.0\n",
      "8.0:8.0\n",
      "9.0:9.0\n",
      "Gender\n",
      "0.0:0.503239740821\n",
      "1.0:0.503267973856\n",
      "2.0:0.508130081301\n",
      "3.0:0.465053763441\n",
      "4.0:0.495412844037\n",
      "5.0:0.498901098901\n",
      "6.0:0.513513513514\n",
      "7.0:0.511754068716\n",
      "8.0:0.50790513834\n",
      "9.0:0.491825613079\n",
      "Voting_Time\n",
      "0.0:0.472282217423\n",
      "1.0:0.503267973856\n",
      "2.0:0.55081300813\n",
      "3.0:0.509408602151\n",
      "4.0:0.491972477064\n",
      "5.0:0.47032967033\n",
      "6.0:0.513513513514\n",
      "7.0:0.528933092224\n",
      "8.0:0.51581027668\n",
      "9.0:0.510445049955\n",
      "Financial_balance_score_(0-1)\n",
      "0.0:0.505608977156\n",
      "1.0:0.510374476973\n",
      "2.0:0.487457122845\n",
      "3.0:0.510175026716\n",
      "4.0:0.502358328319\n",
      "5.0:0.507855462793\n",
      "6.0:0.526831710406\n",
      "7.0:0.502821907378\n",
      "8.0:0.485645770253\n",
      "9.0:0.505902062979\n",
      "%Of_Household_Income\n",
      "0.0:0.49117191753\n",
      "1.0:0.498249038017\n",
      "2.0:0.503666605094\n",
      "3.0:0.498685095972\n",
      "4.0:0.496532395728\n",
      "5.0:0.516410794608\n",
      "6.0:0.500820641579\n",
      "7.0:0.511020921681\n",
      "8.0:0.515876632343\n",
      "9.0:0.487040524172\n",
      "Avg_government_satisfaction\n",
      "0.0:5.03109553077\n",
      "1.0:4.97035378231\n",
      "2.0:4.85756402971\n",
      "3.0:5.01323694898\n",
      "4.0:5.03424866957\n",
      "5.0:4.96216762204\n",
      "6.0:4.48437119601\n",
      "7.0:4.92070808633\n",
      "8.0:4.95155592412\n",
      "9.0:5.01029514586\n",
      "Avg_education_importance\n",
      "0.0:5.06638873706\n",
      "1.0:5.15684722969\n",
      "2.0:5.03343174397\n",
      "3.0:4.87776761896\n",
      "4.0:4.90019624698\n",
      "5.0:5.10612065026\n",
      "6.0:5.19945984996\n",
      "7.0:4.91021328082\n",
      "8.0:4.86837407544\n",
      "9.0:4.98008019755\n",
      "Avg_environmental_importance\n",
      "0.0:4.92713417914\n",
      "1.0:4.94791813585\n",
      "2.0:4.96997379862\n",
      "3.0:4.85594483636\n",
      "4.0:4.97419573775\n",
      "5.0:5.0267331766\n",
      "6.0:5.46144677071\n",
      "7.0:4.98658800814\n",
      "8.0:4.8991500887\n",
      "9.0:4.92583964327\n",
      "Avg_Satisfaction_with_previous_vote\n",
      "0.0:4.84604576709\n",
      "1.0:5.03071776053\n",
      "2.0:5.10591671868\n",
      "3.0:5.01561019575\n",
      "4.0:4.96763523006\n",
      "5.0:5.1569258847\n",
      "6.0:5.22277193896\n",
      "7.0:4.95792987909\n",
      "8.0:5.17305054376\n",
      "9.0:4.9916540176\n",
      "Avg_monthly_income_all_years\n",
      "0.0:6563.94096472\n",
      "1.0:6664.5751634\n",
      "2.0:6545.15650407\n",
      "3.0:6439.97715054\n",
      "4.0:6495.01376147\n",
      "5.0:6542.82857143\n",
      "6.0:6867.2027027\n",
      "7.0:6396.7278481\n",
      "8.0:6468.97628458\n",
      "9.0:6469.61852861\n",
      "Weighted_education_rank\n",
      "0.0:739680.000147\n",
      "1.0:564222.47957\n",
      "2.0:1197154.3219\n",
      "3.0:720839.892812\n",
      "4.0:833523.542494\n",
      "5.0:695546.543218\n",
      "6.0:754362.759298\n",
      "7.0:938567.317979\n",
      "8.0:1236087.07663\n",
      "9.0:719057.015408\n",
      "Last_school_grades\n",
      "0.0:79.9424046076\n",
      "1.0:80.7843137255\n",
      "2.0:45.081300813\n",
      "3.0:80.685483871\n",
      "4.0:79.8853211009\n",
      "5.0:40.5054945055\n",
      "6.0:81.2162162162\n",
      "7.0:79.3670886076\n",
      "8.0:34.7233201581\n",
      "9.0:79.8910081744\n",
      "Age_group\n",
      "0.0:0.986321094312\n",
      "1.0:0.970588235294\n",
      "2.0:1.03048780488\n",
      "3.0:1.03225806452\n",
      "4.0:1.04587155963\n",
      "5.0:0.931868131868\n",
      "6.0:0.891891891892\n",
      "7.0:1.00904159132\n",
      "8.0:1.01185770751\n",
      "9.0:0.987284287012\n",
      "Political_interest_Total_Score\n",
      "0.0:907.095608709\n",
      "1.0:705.01471038\n",
      "2.0:983.033859456\n",
      "3.0:942.854819848\n",
      "4.0:994.40604699\n",
      "5.0:915.472858134\n",
      "6.0:931.01307068\n",
      "7.0:1051.15740401\n",
      "8.0:1106.55997966\n",
      "9.0:917.613748289\n",
      "Number_of_valued_Kneset_members\n",
      "0.0:10.3261339093\n",
      "1.0:11.1013071895\n",
      "2.0:9.97764227642\n",
      "3.0:10.3024193548\n",
      "4.0:10.5149082569\n",
      "5.0:10.6417582418\n",
      "6.0:9.71621621622\n",
      "7.0:10.431283906\n",
      "8.0:10.8300395257\n",
      "9.0:10.5826521344\n",
      "Main_transportation\n",
      "0.0:1.44996400288\n",
      "1.0:1.48366013072\n",
      "2.0:1.52642276423\n",
      "3.0:1.52150537634\n",
      "4.0:1.48509174312\n",
      "5.0:1.4043956044\n",
      "6.0:1.7027027027\n",
      "7.0:1.53707052441\n",
      "8.0:1.43873517787\n",
      "9.0:1.52997275204\n",
      "Occupation\n",
      "0.0:2.0475161987\n",
      "1.0:1.83660130719\n",
      "2.0:1.9512195122\n",
      "3.0:1.85483870968\n",
      "4.0:1.94724770642\n",
      "5.0:2.06153846154\n",
      "6.0:1.94594594595\n",
      "7.0:2.02712477396\n",
      "8.0:2.01778656126\n",
      "9.0:1.9863760218\n",
      "Overall_happiness_score\n",
      "0.0:625.240110082\n",
      "1.0:490.948283514\n",
      "2.0:486.983358443\n",
      "3.0:704.588499886\n",
      "4.0:745.626067874\n",
      "5.0:750.14645748\n",
      "6.0:675.247383583\n",
      "7.0:773.025683849\n",
      "8.0:752.547723768\n",
      "9.0:672.531077796\n"
     ]
    }
   ],
   "source": [
    "votes=df.Vote.unique()\n",
    "votes.sort()\n",
    "for c in df.columns:\n",
    "    if c not in features_to_keep: #only look at features we still have'nt found any reason to keep    \n",
    "        if not c.endswith('Normal'): # these are calculated, no need to check twice\n",
    "            print c\n",
    "            for vote in votes:\n",
    "                print str(vote) + \":\"  + str(df[df.Vote==vote][c].mean())"
   ]
  },
  {
   "cell_type": "markdown",
   "metadata": {},
   "source": [
    "Looks like people who vote for party 1 (whatever it was before we converted it to numbers) have higher value in Avg_monthly_expense_when_under_age_21. We can find more insights like this just from looking at the values above.\n",
    "What to do next:\n",
    "- find more insights like this -> more meaningful features\n",
    "- Maybe find more tests (we could leave it for later) \n",
    "- Find features that are highly related to each other (same way we found features that are highly related to the label). Then maybe for each group, find the one that is most significant to the label, and use wrapper method to see if removing the others decrease performance of different classifiers."
   ]
  },
  {
   "cell_type": "code",
   "execution_count": null,
   "metadata": {
    "collapsed": true
   },
   "outputs": [],
   "source": []
  },
  {
   "cell_type": "code",
   "execution_count": null,
   "metadata": {
    "collapsed": true
   },
   "outputs": [],
   "source": []
  },
  {
   "cell_type": "markdown",
   "metadata": {},
   "source": [
    "### drop not selected features"
   ]
  },
  {
   "cell_type": "code",
   "execution_count": 159,
   "metadata": {
    "collapsed": true
   },
   "outputs": [],
   "source": [
    "not_selected_features = []\n",
    "for c in df.columns:\n",
    "    if c not in features_to_keep:\n",
    "        not_selected_features.append(c)\n",
    "\n",
    "df_selected_feat_X_noNaN = df.drop(not_selected_features, axis=1).values"
   ]
  },
  {
   "cell_type": "code",
   "execution_count": 160,
   "metadata": {
    "collapsed": false
   },
   "outputs": [
    {
     "name": "stdout",
     "output_type": "stream",
     "text": [
      "8146\n",
      "8146\n",
      "8146\n",
      "8146\n"
     ]
    }
   ],
   "source": [
    "print len(df_selected_feat_X_noNaN)\n",
    "print len(df_Y_noNaN)\n",
    "print len(df_X_noNaN)\n",
    "print len(df)"
   ]
  },
  {
   "cell_type": "markdown",
   "metadata": {},
   "source": [
    "## Wrappers (Features Selection)"
   ]
  },
  {
   "cell_type": "markdown",
   "metadata": {},
   "source": [
    "### Training Random Forest Classifier - all features"
   ]
  },
  {
   "cell_type": "code",
   "execution_count": 161,
   "metadata": {
    "collapsed": false
   },
   "outputs": [
    {
     "name": "stdout",
     "output_type": "stream",
     "text": [
      "accuracy: 0.966126656848\n",
      "precision: 0.966444416023\n",
      "recall: 0.966126656848\n",
      "f1 score: 0.966182260865\n"
     ]
    },
    {
     "name": "stderr",
     "output_type": "stream",
     "text": [
      "/Users/Itay/miniconda2/lib/python2.7/site-packages/sklearn/metrics/classification.py:1203: DeprecationWarning: The default `weighted` averaging is deprecated, and from version 0.18, use of precision, recall or F-score with multiclass or multilabel data or pos_label=None will result in an exception. Please set an explicit value for `average`, one of (None, 'micro', 'macro', 'weighted', 'samples'). In cross validation use, for instance, scoring=\"f1_weighted\" instead of scoring=\"f1\".\n",
      "  sample_weight=sample_weight)\n",
      "/Users/Itay/miniconda2/lib/python2.7/site-packages/sklearn/metrics/classification.py:1304: DeprecationWarning: The default `weighted` averaging is deprecated, and from version 0.18, use of precision, recall or F-score with multiclass or multilabel data or pos_label=None will result in an exception. Please set an explicit value for `average`, one of (None, 'micro', 'macro', 'weighted', 'samples'). In cross validation use, for instance, scoring=\"f1_weighted\" instead of scoring=\"f1\".\n",
      "  sample_weight=sample_weight)\n",
      "/Users/Itay/miniconda2/lib/python2.7/site-packages/sklearn/metrics/classification.py:756: DeprecationWarning: The default `weighted` averaging is deprecated, and from version 0.18, use of precision, recall or F-score with multiclass or multilabel data or pos_label=None will result in an exception. Please set an explicit value for `average`, one of (None, 'micro', 'macro', 'weighted', 'samples'). In cross validation use, for instance, scoring=\"f1_weighted\" instead of scoring=\"f1\".\n",
      "  sample_weight=sample_weight)\n"
     ]
    }
   ],
   "source": [
    "# Import the random forest package\n",
    "from sklearn.ensemble import RandomForestClassifier \n",
    "from sklearn.cross_validation import train_test_split\n",
    "from sklearn import metrics\n",
    "\n",
    "# Prepare train and test data using cross validation\n",
    "X_train_noNaN, X_test_noNaN, y_train_noNaN, y_test_noNaN = train_test_split(df_X_noNaN, \n",
    "                                                                            df_Y_noNaN) \n",
    "                                                                            \n",
    "\n",
    "# Create the random forest object which will include all the parameters\n",
    "# for the fit\n",
    "forest = RandomForestClassifier(n_estimators = 3)\n",
    "\n",
    "# Fit the training data to the Survived labels and create the decision trees\n",
    "forest = forest.fit(df_X_noNaN,df_Y_noNaN)\n",
    "\n",
    "# output = forest.predict(test_data_noNaN)\n",
    "y_pred_noNaN = forest.predict(X_test_noNaN)\n",
    "\n",
    "print \"accuracy:\", metrics.accuracy_score(y_test_noNaN, y_pred_noNaN)\n",
    "print \"precision:\", metrics.precision_score(y_test_noNaN, y_pred_noNaN)\n",
    "print \"recall:\", metrics.recall_score(y_test_noNaN, y_pred_noNaN)\n",
    "print \"f1 score:\", metrics.f1_score(y_test_noNaN, y_pred_noNaN)"
   ]
  },
  {
   "cell_type": "markdown",
   "metadata": {},
   "source": [
    "### Training Random Forest Classifier - selected features"
   ]
  },
  {
   "cell_type": "code",
   "execution_count": 162,
   "metadata": {
    "collapsed": false
   },
   "outputs": [
    {
     "name": "stdout",
     "output_type": "stream",
     "text": [
      "accuracy: 0.93912616593\n",
      "precision: 0.940478164715\n",
      "recall: 0.93912616593\n",
      "f1 score: 0.939380623686\n"
     ]
    },
    {
     "name": "stderr",
     "output_type": "stream",
     "text": [
      "/Users/Itay/miniconda2/lib/python2.7/site-packages/sklearn/metrics/classification.py:1203: DeprecationWarning: The default `weighted` averaging is deprecated, and from version 0.18, use of precision, recall or F-score with multiclass or multilabel data or pos_label=None will result in an exception. Please set an explicit value for `average`, one of (None, 'micro', 'macro', 'weighted', 'samples'). In cross validation use, for instance, scoring=\"f1_weighted\" instead of scoring=\"f1\".\n",
      "  sample_weight=sample_weight)\n",
      "/Users/Itay/miniconda2/lib/python2.7/site-packages/sklearn/metrics/classification.py:1304: DeprecationWarning: The default `weighted` averaging is deprecated, and from version 0.18, use of precision, recall or F-score with multiclass or multilabel data or pos_label=None will result in an exception. Please set an explicit value for `average`, one of (None, 'micro', 'macro', 'weighted', 'samples'). In cross validation use, for instance, scoring=\"f1_weighted\" instead of scoring=\"f1\".\n",
      "  sample_weight=sample_weight)\n",
      "/Users/Itay/miniconda2/lib/python2.7/site-packages/sklearn/metrics/classification.py:756: DeprecationWarning: The default `weighted` averaging is deprecated, and from version 0.18, use of precision, recall or F-score with multiclass or multilabel data or pos_label=None will result in an exception. Please set an explicit value for `average`, one of (None, 'micro', 'macro', 'weighted', 'samples'). In cross validation use, for instance, scoring=\"f1_weighted\" instead of scoring=\"f1\".\n",
      "  sample_weight=sample_weight)\n"
     ]
    }
   ],
   "source": [
    "# Prepare train and test data using cross validation\n",
    "X_train_noNaN, X_test_noNaN, y_train_noNaN, y_test_noNaN = train_test_split(df_selected_feat_X_noNaN, \n",
    "                                                                            df_Y_noNaN) \n",
    "                                                                            \n",
    "\n",
    "# Create the random forest object which will include all the parameters\n",
    "# for the fit\n",
    "forest = RandomForestClassifier(n_estimators = 3)\n",
    "\n",
    "# Fit the training data to the Survived labels and create the decision trees\n",
    "forest = forest.fit(df_selected_feat_X_noNaN,df_Y_noNaN)\n",
    "\n",
    "# output = forest.predict(test_data_noNaN)\n",
    "y_pred_noNaN = forest.predict(X_test_noNaN)\n",
    "\n",
    "print \"accuracy:\", metrics.accuracy_score(y_test_noNaN, y_pred_noNaN)\n",
    "print \"precision:\", metrics.precision_score(y_test_noNaN, y_pred_noNaN)\n",
    "print \"recall:\", metrics.recall_score(y_test_noNaN, y_pred_noNaN)\n",
    "print \"f1 score:\", metrics.f1_score(y_test_noNaN, y_pred_noNaN)"
   ]
  },
  {
   "cell_type": "markdown",
   "metadata": {},
   "source": [
    "### Create a K-Folds cross validation iterator"
   ]
  },
  {
   "cell_type": "code",
   "execution_count": 163,
   "metadata": {
    "collapsed": false
   },
   "outputs": [
    {
     "name": "stdout",
     "output_type": "stream",
     "text": [
      "sklearn.cross_validation.KFold(n=8146, n_folds=5, shuffle=False, random_state=None)\n"
     ]
    }
   ],
   "source": [
    "from sklearn.cross_validation import KFold\n",
    "\n",
    "n_folds=5\n",
    "kf = KFold(n=df_X_noNaN.shape[0], n_folds=n_folds)\n",
    "\n",
    "print(kf) "
   ]
  },
  {
   "cell_type": "markdown",
   "metadata": {},
   "source": [
    "### Train/Test Random Forest and SVM usin K-Fold cross validation - all features"
   ]
  },
  {
   "cell_type": "code",
   "execution_count": 165,
   "metadata": {
    "collapsed": false
   },
   "outputs": [
    {
     "name": "stdout",
     "output_type": "stream",
     "text": [
      "[fold 0] RF score: 0.82699, SVM score: 0.27853\n",
      "[fold 1] RF score: 0.81031, SVM score: 0.27624\n",
      "[fold 2] RF score: 0.78944, SVM score: 0.26335\n",
      "[fold 3] RF score: 0.81522, SVM score: 0.26826\n",
      "[fold 4] RF score: 0.80847, SVM score: 0.26519\n"
     ]
    }
   ],
   "source": [
    "from sklearn.svm import SVC\n",
    "\n",
    "for k, (train_index, test_index) in enumerate(kf):\n",
    "    # Random Forest\n",
    "    forest = forest.fit(df_X_noNaN[train_index], df_Y_noNaN[train_index])\n",
    "    y_pred_noNaN_RF = forest.predict(df_X_noNaN[test_index])\n",
    "    #SVM\n",
    "    clf = SVC().fit(df_X_noNaN[train_index], df_Y_noNaN[train_index])\n",
    "    y_pred_noNaN_SVM = clf.predict(df_X_noNaN[test_index])\n",
    "    \n",
    "    #results    \n",
    "    print(\"[fold {0}] RF score: {1:.5}, SVM score: {2:.5}\".\n",
    "          format(k, metrics.accuracy_score(df_Y_noNaN[test_index],y_pred_noNaN_RF), \n",
    "                 metrics.accuracy_score(df_Y_noNaN[test_index], y_pred_noNaN_SVM)))"
   ]
  },
  {
   "cell_type": "markdown",
   "metadata": {},
   "source": [
    "### Train/Test Random Forest and SVM usin K-Fold cross validation - selected features"
   ]
  },
  {
   "cell_type": "code",
   "execution_count": 166,
   "metadata": {
    "collapsed": false
   },
   "outputs": [
    {
     "name": "stdout",
     "output_type": "stream",
     "text": [
      "[fold 0] RF score: 0.71227, SVM score: 0.27853\n",
      "[fold 1] RF score: 0.72253, SVM score: 0.27624\n",
      "[fold 2] RF score: 0.7213, SVM score: 0.26335\n",
      "[fold 3] RF score: 0.73726, SVM score: 0.26826\n",
      "[fold 4] RF score: 0.71332, SVM score: 0.26519\n"
     ]
    }
   ],
   "source": [
    "for k, (train_index, test_index) in enumerate(kf):\n",
    "    # Random Forest\n",
    "    forest = forest.fit(df_selected_feat_X_noNaN[train_index], df_Y_noNaN[train_index])\n",
    "    y_pred_noNaN_RF = forest.predict(df_selected_feat_X_noNaN[test_index])\n",
    "    #SVM\n",
    "    clf = SVC().fit(df_selected_feat_X_noNaN[train_index], df_Y_noNaN[train_index])\n",
    "    y_pred_noNaN_SVM = clf.predict(df_selected_feat_X_noNaN[test_index])\n",
    "    \n",
    "    #results    \n",
    "    print(\"[fold {0}] RF score: {1:.5}, SVM score: {2:.5}\".\n",
    "          format(k, metrics.accuracy_score(df_Y_noNaN[test_index],y_pred_noNaN_RF), \n",
    "                 metrics.accuracy_score(df_Y_noNaN[test_index], y_pred_noNaN_SVM)))"
   ]
  },
  {
   "cell_type": "code",
   "execution_count": null,
   "metadata": {
    "collapsed": true
   },
   "outputs": [],
   "source": []
  }
 ],
 "metadata": {
  "kernelspec": {
   "display_name": "Python 2",
   "language": "python",
   "name": "python2"
  },
  "language_info": {
   "codemirror_mode": {
    "name": "ipython",
    "version": 2
   },
   "file_extension": ".py",
   "mimetype": "text/x-python",
   "name": "python",
   "nbconvert_exporter": "python",
   "pygments_lexer": "ipython2",
   "version": "2.7.10"
  }
 },
 "nbformat": 4,
 "nbformat_minor": 0
}
