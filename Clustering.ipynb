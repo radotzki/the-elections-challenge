{
 "cells": [
  {
   "cell_type": "code",
   "execution_count": 1,
   "metadata": {
    "collapsed": true
   },
   "outputs": [],
   "source": [
    "%matplotlib inline\n",
    "import math\n",
    "import pandas as pd"
   ]
  },
  {
   "cell_type": "code",
   "execution_count": 2,
   "metadata": {
    "collapsed": false
   },
   "outputs": [
    {
     "data": {
      "text/html": [
       "<div>\n",
       "<table border=\"1\" class=\"dataframe\">\n",
       "  <thead>\n",
       "    <tr style=\"text-align: right;\">\n",
       "      <th></th>\n",
       "      <th>Yearly_ExpensesK</th>\n",
       "      <th>Avg_Residancy_Altitude</th>\n",
       "      <th>Overall_happiness_score</th>\n",
       "      <th>Will_vote_only_large_party</th>\n",
       "      <th>Financial_agenda_matters</th>\n",
       "      <th>Yearly_IncomeK</th>\n",
       "      <th>Most_Important_Issue</th>\n",
       "      <th>Vote</th>\n",
       "    </tr>\n",
       "  </thead>\n",
       "  <tbody>\n",
       "    <tr>\n",
       "      <th>count</th>\n",
       "      <td>6000.000000</td>\n",
       "      <td>6000.000000</td>\n",
       "      <td>6000.000000</td>\n",
       "      <td>6000.000000</td>\n",
       "      <td>6000.000000</td>\n",
       "      <td>6000.000000</td>\n",
       "      <td>6000.000000</td>\n",
       "      <td>6000.000000</td>\n",
       "    </tr>\n",
       "    <tr>\n",
       "      <th>mean</th>\n",
       "      <td>0.002270</td>\n",
       "      <td>-0.006917</td>\n",
       "      <td>0.008513</td>\n",
       "      <td>0.958000</td>\n",
       "      <td>0.186167</td>\n",
       "      <td>0.011338</td>\n",
       "      <td>3.097833</td>\n",
       "      <td>5.108833</td>\n",
       "    </tr>\n",
       "    <tr>\n",
       "      <th>std</th>\n",
       "      <td>1.000050</td>\n",
       "      <td>0.988772</td>\n",
       "      <td>0.999945</td>\n",
       "      <td>0.200606</td>\n",
       "      <td>0.389274</td>\n",
       "      <td>0.990657</td>\n",
       "      <td>2.408782</td>\n",
       "      <td>3.360735</td>\n",
       "    </tr>\n",
       "    <tr>\n",
       "      <th>min</th>\n",
       "      <td>-2.945120</td>\n",
       "      <td>-2.432355</td>\n",
       "      <td>-3.726302</td>\n",
       "      <td>0.000000</td>\n",
       "      <td>0.000000</td>\n",
       "      <td>-3.918231</td>\n",
       "      <td>0.000000</td>\n",
       "      <td>0.000000</td>\n",
       "    </tr>\n",
       "    <tr>\n",
       "      <th>25%</th>\n",
       "      <td>-0.601923</td>\n",
       "      <td>-0.805058</td>\n",
       "      <td>-0.625250</td>\n",
       "      <td>1.000000</td>\n",
       "      <td>0.000000</td>\n",
       "      <td>-0.487121</td>\n",
       "      <td>1.000000</td>\n",
       "      <td>2.000000</td>\n",
       "    </tr>\n",
       "    <tr>\n",
       "      <th>50%</th>\n",
       "      <td>-0.349992</td>\n",
       "      <td>-0.234427</td>\n",
       "      <td>-0.058003</td>\n",
       "      <td>1.000000</td>\n",
       "      <td>0.000000</td>\n",
       "      <td>-0.218022</td>\n",
       "      <td>3.000000</td>\n",
       "      <td>5.000000</td>\n",
       "    </tr>\n",
       "    <tr>\n",
       "      <th>75%</th>\n",
       "      <td>0.517605</td>\n",
       "      <td>0.606814</td>\n",
       "      <td>0.619365</td>\n",
       "      <td>1.000000</td>\n",
       "      <td>0.000000</td>\n",
       "      <td>0.316993</td>\n",
       "      <td>5.000000</td>\n",
       "      <td>9.000000</td>\n",
       "    </tr>\n",
       "    <tr>\n",
       "      <th>max</th>\n",
       "      <td>2.868502</td>\n",
       "      <td>3.344068</td>\n",
       "      <td>2.473634</td>\n",
       "      <td>1.000000</td>\n",
       "      <td>1.000000</td>\n",
       "      <td>3.091690</td>\n",
       "      <td>7.000000</td>\n",
       "      <td>9.000000</td>\n",
       "    </tr>\n",
       "  </tbody>\n",
       "</table>\n",
       "</div>"
      ],
      "text/plain": [
       "       Yearly_ExpensesK  Avg_Residancy_Altitude  Overall_happiness_score  \\\n",
       "count       6000.000000             6000.000000              6000.000000   \n",
       "mean           0.002270               -0.006917                 0.008513   \n",
       "std            1.000050                0.988772                 0.999945   \n",
       "min           -2.945120               -2.432355                -3.726302   \n",
       "25%           -0.601923               -0.805058                -0.625250   \n",
       "50%           -0.349992               -0.234427                -0.058003   \n",
       "75%            0.517605                0.606814                 0.619365   \n",
       "max            2.868502                3.344068                 2.473634   \n",
       "\n",
       "       Will_vote_only_large_party  Financial_agenda_matters  Yearly_IncomeK  \\\n",
       "count                 6000.000000               6000.000000     6000.000000   \n",
       "mean                     0.958000                  0.186167        0.011338   \n",
       "std                      0.200606                  0.389274        0.990657   \n",
       "min                      0.000000                  0.000000       -3.918231   \n",
       "25%                      1.000000                  0.000000       -0.487121   \n",
       "50%                      1.000000                  0.000000       -0.218022   \n",
       "75%                      1.000000                  0.000000        0.316993   \n",
       "max                      1.000000                  1.000000        3.091690   \n",
       "\n",
       "       Most_Important_Issue         Vote  \n",
       "count           6000.000000  6000.000000  \n",
       "mean               3.097833     5.108833  \n",
       "std                2.408782     3.360735  \n",
       "min                0.000000     0.000000  \n",
       "25%                1.000000     2.000000  \n",
       "50%                3.000000     5.000000  \n",
       "75%                5.000000     9.000000  \n",
       "max                7.000000     9.000000  "
      ]
     },
     "execution_count": 2,
     "metadata": {},
     "output_type": "execute_result"
    }
   ],
   "source": [
    "df = pd.read_csv('./dataset/transformed_train.csv')\n",
    "df.describe()"
   ]
  },
  {
   "cell_type": "code",
   "execution_count": 46,
   "metadata": {
    "collapsed": false
   },
   "outputs": [],
   "source": [
    "def get_votes_count_by_party(df):\n",
    "    parties = {}\n",
    "    for party in df.Vote.unique():\n",
    "        parties[party] = len(df[df.Vote == party])\n",
    "    return parties;"
   ]
  },
  {
   "cell_type": "code",
   "execution_count": 117,
   "metadata": {
    "collapsed": false
   },
   "outputs": [
    {
     "name": "stdout",
     "output_type": "stream",
     "text": [
      "1.0\n",
      "0.483146067416\n",
      "0.4\n",
      "0.360465116279\n",
      "0.474576271186\n",
      "0.411214953271\n",
      "0.628571428571\n",
      "0.666666666667\n",
      "0.607329842932\n",
      "0.878787878788\n",
      "0.666666666667\n",
      "0.447368421053\n",
      "0.607692307692\n",
      "0.4\n",
      "0.5\n",
      "0.338983050847\n",
      "0.606060606061\n",
      "0.56338028169\n",
      "0.350649350649\n",
      "0.375\n",
      "0.962962962963\n",
      "0.966666666667\n",
      "0.736842105263\n",
      "0.739130434783\n",
      "0.46875\n",
      "0.380952380952\n",
      "0.631578947368\n",
      "0.391304347826\n",
      "0.466666666667\n",
      "1.0\n",
      "0.787878787879\n",
      "0.454022988506\n",
      "0.642857142857\n",
      "0.72972972973\n",
      "0.635944700461\n",
      "0.666666666667\n",
      "0.401515151515\n",
      "0.638888888889\n",
      "0.928571428571\n",
      "0.533834586466\n",
      "1.0\n",
      "0.875\n",
      "1.0\n",
      "0.587301587302\n",
      "0.823529411765\n",
      "0.854838709677\n",
      "0.939393939394\n",
      "0.576923076923\n",
      "0.324324324324\n",
      "0.87323943662\n",
      "0.454545454545\n",
      "0.558823529412\n",
      "1.0\n",
      "0.454545454545\n",
      "0.622641509434\n",
      "0.411764705882\n",
      "0.428571428571\n",
      "0.931034482759\n",
      "0.416666666667\n",
      "0.460317460317\n",
      "0.375\n",
      "0.705882352941\n",
      "0.381355932203\n",
      "0.416666666667\n",
      "0.625\n",
      "0.8125\n",
      "1.0\n",
      "0.875\n",
      "0.786885245902\n",
      "1.0\n",
      "0.48275862069\n",
      "0.468085106383\n",
      "0.909090909091\n",
      "0.613636363636\n",
      "1.0\n",
      "0.418604651163\n",
      "0.782608695652\n",
      "0.414634146341\n",
      "0.740740740741\n",
      "0.736842105263\n",
      "0.388888888889\n",
      "0.44578313253\n",
      "0.96\n",
      "1.0\n",
      "0.7\n",
      "1.0\n",
      "1.0\n",
      "0.380530973451\n",
      "0.592592592593\n",
      "0.617886178862\n",
      "0.911764705882\n",
      "0.833333333333\n",
      "0.85\n",
      "0.783783783784\n",
      "0.706896551724\n",
      "0.597222222222\n",
      "0.376470588235\n",
      "0.782608695652\n",
      "0.595238095238\n",
      "0.7\n"
     ]
    }
   ],
   "source": [
    "from sklearn.cluster import KMeans\n",
    "n_clusters = 100;\n",
    "cls = KMeans(n_clusters=n_clusters)\n",
    "res = cls.fit_predict(df.drop('Vote', axis=1))\n",
    "\n",
    "for v in xrange(n_clusters):\n",
    "    sum_ = sum(get_votes_count_by_party(df.iloc[[x for x,y in enumerate(res) if y==v]]).itervalues())\n",
    "    print max({k: (v + .0) / sum_ for k, v in get_votes_count_by_party(df.iloc[[x for x,y in enumerate(res) if y==v]]).iteritems()}.itervalues())"
   ]
  },
  {
   "cell_type": "code",
   "execution_count": 104,
   "metadata": {
    "collapsed": false
   },
   "outputs": [],
   "source": [
    "ones = [x for x,y in enumerate(res) if y==1]\n",
    "zeros = [x for x,y in enumerate(res) if y==0]\n",
    "f = [x for x,y in enumerate(res) if y==3]"
   ]
  },
  {
   "cell_type": "code",
   "execution_count": 105,
   "metadata": {
    "collapsed": false
   },
   "outputs": [],
   "source": [
    "zeros_parties = get_votes_count_by_party(df.iloc[zeros])\n",
    "f_parties = get_votes_count_by_party(df.iloc[f])\n",
    "ones_parties = get_votes_count_by_party(df.iloc[ones])\n",
    "all_parties = get_votes_count_by_party(df)"
   ]
  },
  {
   "cell_type": "code",
   "execution_count": 107,
   "metadata": {
    "collapsed": false
   },
   "outputs": [
    {
     "data": {
      "text/plain": [
       "{0: 0.2084592145015106,\n",
       " 1: 0.12386706948640483,\n",
       " 2: 0.030211480362537766,\n",
       " 3: 0.07250755287009064,\n",
       " 4: 0.09667673716012085,\n",
       " 5: 0.03625377643504532,\n",
       " 6: 0.015105740181268883,\n",
       " 7: 0.1419939577039275,\n",
       " 9: 0.27492447129909364}"
      ]
     },
     "execution_count": 107,
     "metadata": {},
     "output_type": "execute_result"
    }
   ],
   "source": [
    "{k: (v + .0) / sum_ for k, v in f_parties.iteritems()}"
   ]
  }
 ],
 "metadata": {
  "kernelspec": {
   "display_name": "Python 2",
   "language": "python",
   "name": "python2"
  },
  "language_info": {
   "codemirror_mode": {
    "name": "ipython",
    "version": 2
   },
   "file_extension": ".py",
   "mimetype": "text/x-python",
   "name": "python",
   "nbconvert_exporter": "python",
   "pygments_lexer": "ipython2",
   "version": "2.7.10"
  }
 },
 "nbformat": 4,
 "nbformat_minor": 0
}
