{
 "cells": [
  {
   "cell_type": "code",
   "execution_count": 23,
   "metadata": {
    "collapsed": false
   },
   "outputs": [],
   "source": [
    "import pandas as pd\n",
    "import numpy as np\n",
    "import matplotlib.pyplot as plt\n",
    "\n",
    "%matplotlib inline\n",
    "\n",
    "# set seaborn plot defaults.\n",
    "# This can be safely commented out\n",
    "# import seaborn; seaborn.set()"
   ]
  },
  {
   "cell_type": "markdown",
   "metadata": {},
   "source": [
    "Load the CSV file"
   ]
  },
  {
   "cell_type": "code",
   "execution_count": 92,
   "metadata": {
    "collapsed": false,
    "scrolled": true
   },
   "outputs": [],
   "source": [
    "# For .read_csv, always use header=0 when you know row 0 is the header row\n",
    "train = pd.read_csv('./dataset/ElectionsData.csv', header=0)\n",
    "test = pd.read_csv('./dataset/ElectionsData.csv', header=0)"
   ]
  },
  {
   "cell_type": "code",
   "execution_count": 93,
   "metadata": {
    "collapsed": false
   },
   "outputs": [
    {
     "data": {
      "text/html": [
       "<div>\n",
       "<table border=\"1\" class=\"dataframe\">\n",
       "  <thead>\n",
       "    <tr style=\"text-align: right;\">\n",
       "      <th></th>\n",
       "      <th>Vote</th>\n",
       "      <th>Occupation_Satisfaction</th>\n",
       "      <th>Avg_monthly_expense_when_under_age_21</th>\n",
       "      <th>AVG_lottary_expanses</th>\n",
       "      <th>Most_Important_Issue</th>\n",
       "      <th>Avg_Residancy_Altitude</th>\n",
       "      <th>Looking_at_poles_results</th>\n",
       "      <th>Yearly_ExpensesK</th>\n",
       "      <th>Married</th>\n",
       "      <th>Gender</th>\n",
       "      <th>...</th>\n",
       "      <th>Last_school_grades</th>\n",
       "      <th>Age_group</th>\n",
       "      <th>Number_of_differnt_parties_voted_for</th>\n",
       "      <th>Political_interest_Total_Score</th>\n",
       "      <th>Number_of_valued_Kneset_members</th>\n",
       "      <th>Main_transportation</th>\n",
       "      <th>Occupation</th>\n",
       "      <th>Overall_happiness_score</th>\n",
       "      <th>Num_of_kids_born_last_10_years</th>\n",
       "      <th>Financial_agenda_matters</th>\n",
       "    </tr>\n",
       "  </thead>\n",
       "  <tbody>\n",
       "    <tr>\n",
       "      <th>0</th>\n",
       "      <td>Yellows</td>\n",
       "      <td>9</td>\n",
       "      <td>901.074249</td>\n",
       "      <td>174664.625237</td>\n",
       "      <td>Education</td>\n",
       "      <td>300.358083</td>\n",
       "      <td>No</td>\n",
       "      <td>581.521308</td>\n",
       "      <td>No</td>\n",
       "      <td>Male</td>\n",
       "      <td>...</td>\n",
       "      <td>100</td>\n",
       "      <td>45_and_up</td>\n",
       "      <td>1</td>\n",
       "      <td>1067.419550</td>\n",
       "      <td>14</td>\n",
       "      <td>Motorcycle_or_truck</td>\n",
       "      <td>Industry_or_other</td>\n",
       "      <td>897.297947</td>\n",
       "      <td>0</td>\n",
       "      <td>No</td>\n",
       "    </tr>\n",
       "    <tr>\n",
       "      <th>1</th>\n",
       "      <td>Reds</td>\n",
       "      <td>4</td>\n",
       "      <td>172.175470</td>\n",
       "      <td>23146.728293</td>\n",
       "      <td>Education</td>\n",
       "      <td>57.391823</td>\n",
       "      <td>No</td>\n",
       "      <td>403.310559</td>\n",
       "      <td>Yes</td>\n",
       "      <td>Female</td>\n",
       "      <td>...</td>\n",
       "      <td>100</td>\n",
       "      <td>30-45</td>\n",
       "      <td>0</td>\n",
       "      <td>1111.093591</td>\n",
       "      <td>10</td>\n",
       "      <td>Public_or_other</td>\n",
       "      <td>Industry_or_other</td>\n",
       "      <td>861.981391</td>\n",
       "      <td>0</td>\n",
       "      <td>No</td>\n",
       "    </tr>\n",
       "    <tr>\n",
       "      <th>2</th>\n",
       "      <td>Whites</td>\n",
       "      <td>3</td>\n",
       "      <td>408.262789</td>\n",
       "      <td>97198.945759</td>\n",
       "      <td>Foreign_Affairs</td>\n",
       "      <td>136.087596</td>\n",
       "      <td>No</td>\n",
       "      <td>714.238096</td>\n",
       "      <td>No</td>\n",
       "      <td>Male</td>\n",
       "      <td>...</td>\n",
       "      <td>40</td>\n",
       "      <td>30-45</td>\n",
       "      <td>1</td>\n",
       "      <td>1260.064170</td>\n",
       "      <td>20</td>\n",
       "      <td>Public_or_other</td>\n",
       "      <td>Public_Sector</td>\n",
       "      <td>819.390492</td>\n",
       "      <td>1</td>\n",
       "      <td>Yes</td>\n",
       "    </tr>\n",
       "    <tr>\n",
       "      <th>3</th>\n",
       "      <td>Blues</td>\n",
       "      <td>4</td>\n",
       "      <td>401.755874</td>\n",
       "      <td>52952.486970</td>\n",
       "      <td>Financial</td>\n",
       "      <td>133.918625</td>\n",
       "      <td>No</td>\n",
       "      <td>395.407936</td>\n",
       "      <td>Yes</td>\n",
       "      <td>Male</td>\n",
       "      <td>...</td>\n",
       "      <td>60</td>\n",
       "      <td>30-45</td>\n",
       "      <td>3</td>\n",
       "      <td>837.907521</td>\n",
       "      <td>5</td>\n",
       "      <td>Car</td>\n",
       "      <td>Industry_or_other</td>\n",
       "      <td>584.598207</td>\n",
       "      <td>1</td>\n",
       "      <td>No</td>\n",
       "    </tr>\n",
       "    <tr>\n",
       "      <th>4</th>\n",
       "      <td>Blues</td>\n",
       "      <td>5</td>\n",
       "      <td>210.935361</td>\n",
       "      <td>29798.270086</td>\n",
       "      <td>Healthcare</td>\n",
       "      <td>70.311787</td>\n",
       "      <td>No</td>\n",
       "      <td>423.801917</td>\n",
       "      <td>Yes</td>\n",
       "      <td>Female</td>\n",
       "      <td>...</td>\n",
       "      <td>80</td>\n",
       "      <td>30-45</td>\n",
       "      <td>2</td>\n",
       "      <td>859.308498</td>\n",
       "      <td>4</td>\n",
       "      <td>Motorcycle_or_truck</td>\n",
       "      <td>Services_or_Retail</td>\n",
       "      <td>595.206111</td>\n",
       "      <td>1</td>\n",
       "      <td>No</td>\n",
       "    </tr>\n",
       "  </tbody>\n",
       "</table>\n",
       "<p>5 rows × 38 columns</p>\n",
       "</div>"
      ],
      "text/plain": [
       "      Vote  Occupation_Satisfaction  Avg_monthly_expense_when_under_age_21  \\\n",
       "0  Yellows                        9                             901.074249   \n",
       "1     Reds                        4                             172.175470   \n",
       "2   Whites                        3                             408.262789   \n",
       "3    Blues                        4                             401.755874   \n",
       "4    Blues                        5                             210.935361   \n",
       "\n",
       "   AVG_lottary_expanses Most_Important_Issue  Avg_Residancy_Altitude  \\\n",
       "0         174664.625237            Education              300.358083   \n",
       "1          23146.728293            Education               57.391823   \n",
       "2          97198.945759      Foreign_Affairs              136.087596   \n",
       "3          52952.486970            Financial              133.918625   \n",
       "4          29798.270086           Healthcare               70.311787   \n",
       "\n",
       "  Looking_at_poles_results  Yearly_ExpensesK Married  Gender  \\\n",
       "0                       No        581.521308      No    Male   \n",
       "1                       No        403.310559     Yes  Female   \n",
       "2                       No        714.238096      No    Male   \n",
       "3                       No        395.407936     Yes    Male   \n",
       "4                       No        423.801917     Yes  Female   \n",
       "\n",
       "             ...            Last_school_grades  Age_group  \\\n",
       "0            ...                           100  45_and_up   \n",
       "1            ...                           100      30-45   \n",
       "2            ...                            40      30-45   \n",
       "3            ...                            60      30-45   \n",
       "4            ...                            80      30-45   \n",
       "\n",
       "   Number_of_differnt_parties_voted_for  Political_interest_Total_Score  \\\n",
       "0                                     1                     1067.419550   \n",
       "1                                     0                     1111.093591   \n",
       "2                                     1                     1260.064170   \n",
       "3                                     3                      837.907521   \n",
       "4                                     2                      859.308498   \n",
       "\n",
       "   Number_of_valued_Kneset_members  Main_transportation          Occupation  \\\n",
       "0                               14  Motorcycle_or_truck   Industry_or_other   \n",
       "1                               10      Public_or_other   Industry_or_other   \n",
       "2                               20      Public_or_other       Public_Sector   \n",
       "3                                5                  Car   Industry_or_other   \n",
       "4                                4  Motorcycle_or_truck  Services_or_Retail   \n",
       "\n",
       "   Overall_happiness_score  Num_of_kids_born_last_10_years  \\\n",
       "0               897.297947                               0   \n",
       "1               861.981391                               0   \n",
       "2               819.390492                               1   \n",
       "3               584.598207                               1   \n",
       "4               595.206111                               1   \n",
       "\n",
       "   Financial_agenda_matters  \n",
       "0                        No  \n",
       "1                        No  \n",
       "2                       Yes  \n",
       "3                        No  \n",
       "4                        No  \n",
       "\n",
       "[5 rows x 38 columns]"
      ]
     },
     "execution_count": 93,
     "metadata": {},
     "output_type": "execute_result"
    }
   ],
   "source": [
    "train.head()"
   ]
  },
  {
   "cell_type": "code",
   "execution_count": 94,
   "metadata": {
    "collapsed": false
   },
   "outputs": [
    {
     "data": {
      "text/html": [
       "<div>\n",
       "<table border=\"1\" class=\"dataframe\">\n",
       "  <thead>\n",
       "    <tr style=\"text-align: right;\">\n",
       "      <th></th>\n",
       "      <th>Occupation_Satisfaction</th>\n",
       "      <th>Avg_monthly_expense_when_under_age_21</th>\n",
       "      <th>AVG_lottary_expanses</th>\n",
       "      <th>Avg_Residancy_Altitude</th>\n",
       "      <th>Yearly_ExpensesK</th>\n",
       "      <th>Financial_balance_score_(0-1)</th>\n",
       "      <th>%Of_Household_Income</th>\n",
       "      <th>Avg_government_satisfaction</th>\n",
       "      <th>Avg_education_importance</th>\n",
       "      <th>Avg_environmental_importance</th>\n",
       "      <th>...</th>\n",
       "      <th>Avg_size_per_room</th>\n",
       "      <th>Weighted_education_rank</th>\n",
       "      <th>%_satisfaction_financial_policy</th>\n",
       "      <th>Garden_sqr_meter_per_person_in_residancy_area</th>\n",
       "      <th>Last_school_grades</th>\n",
       "      <th>Number_of_differnt_parties_voted_for</th>\n",
       "      <th>Political_interest_Total_Score</th>\n",
       "      <th>Number_of_valued_Kneset_members</th>\n",
       "      <th>Overall_happiness_score</th>\n",
       "      <th>Num_of_kids_born_last_10_years</th>\n",
       "    </tr>\n",
       "  </thead>\n",
       "  <tbody>\n",
       "    <tr>\n",
       "      <th>count</th>\n",
       "      <td>9933.000000</td>\n",
       "      <td>9935.000000</td>\n",
       "      <td>9936.000000</td>\n",
       "      <td>9946.000000</td>\n",
       "      <td>9932.000000</td>\n",
       "      <td>9943.000000</td>\n",
       "      <td>9936.000000</td>\n",
       "      <td>9927.000000</td>\n",
       "      <td>9939.000000</td>\n",
       "      <td>9934.000000</td>\n",
       "      <td>...</td>\n",
       "      <td>9923.000000</td>\n",
       "      <td>9948.000000</td>\n",
       "      <td>9923.000000</td>\n",
       "      <td>9937.000000</td>\n",
       "      <td>9944.000000</td>\n",
       "      <td>9950.000000</td>\n",
       "      <td>9940.000000</td>\n",
       "      <td>9928.000000</td>\n",
       "      <td>9938.000000</td>\n",
       "      <td>9949.000000</td>\n",
       "    </tr>\n",
       "    <tr>\n",
       "      <th>mean</th>\n",
       "      <td>5.529749</td>\n",
       "      <td>442.413444</td>\n",
       "      <td>73621.327341</td>\n",
       "      <td>147.563315</td>\n",
       "      <td>506.732699</td>\n",
       "      <td>0.502560</td>\n",
       "      <td>0.499534</td>\n",
       "      <td>4.999261</td>\n",
       "      <td>4.981094</td>\n",
       "      <td>4.959612</td>\n",
       "      <td>...</td>\n",
       "      <td>24.771706</td>\n",
       "      <td>818161.380996</td>\n",
       "      <td>50.044692</td>\n",
       "      <td>33862.269264</td>\n",
       "      <td>73.013878</td>\n",
       "      <td>1.999799</td>\n",
       "      <td>952.335318</td>\n",
       "      <td>10.499093</td>\n",
       "      <td>680.639789</td>\n",
       "      <td>0.693738</td>\n",
       "    </tr>\n",
       "    <tr>\n",
       "      <th>std</th>\n",
       "      <td>2.861947</td>\n",
       "      <td>328.222569</td>\n",
       "      <td>61241.107525</td>\n",
       "      <td>109.456697</td>\n",
       "      <td>171.982639</td>\n",
       "      <td>0.288008</td>\n",
       "      <td>0.286933</td>\n",
       "      <td>2.890921</td>\n",
       "      <td>2.904561</td>\n",
       "      <td>2.895674</td>\n",
       "      <td>...</td>\n",
       "      <td>3.197704</td>\n",
       "      <td>339704.013020</td>\n",
       "      <td>28.858537</td>\n",
       "      <td>55081.513763</td>\n",
       "      <td>20.213021</td>\n",
       "      <td>1.267039</td>\n",
       "      <td>176.514934</td>\n",
       "      <td>5.790211</td>\n",
       "      <td>151.711483</td>\n",
       "      <td>1.081231</td>\n",
       "    </tr>\n",
       "    <tr>\n",
       "      <th>min</th>\n",
       "      <td>1.000000</td>\n",
       "      <td>-394.030092</td>\n",
       "      <td>-81744.489527</td>\n",
       "      <td>-131.343364</td>\n",
       "      <td>0.349801</td>\n",
       "      <td>0.000193</td>\n",
       "      <td>0.000021</td>\n",
       "      <td>0.000616</td>\n",
       "      <td>0.000258</td>\n",
       "      <td>0.000580</td>\n",
       "      <td>...</td>\n",
       "      <td>1.070541</td>\n",
       "      <td>524.288150</td>\n",
       "      <td>0.005066</td>\n",
       "      <td>13.097572</td>\n",
       "      <td>30.000000</td>\n",
       "      <td>0.000000</td>\n",
       "      <td>29.055030</td>\n",
       "      <td>1.000000</td>\n",
       "      <td>3.153985</td>\n",
       "      <td>0.000000</td>\n",
       "    </tr>\n",
       "    <tr>\n",
       "      <th>25%</th>\n",
       "      <td>3.000000</td>\n",
       "      <td>195.141170</td>\n",
       "      <td>29890.614875</td>\n",
       "      <td>65.004805</td>\n",
       "      <td>402.917360</td>\n",
       "      <td>0.254796</td>\n",
       "      <td>0.251451</td>\n",
       "      <td>2.483181</td>\n",
       "      <td>2.455611</td>\n",
       "      <td>2.444570</td>\n",
       "      <td>...</td>\n",
       "      <td>23.954494</td>\n",
       "      <td>659533.384017</td>\n",
       "      <td>25.040706</td>\n",
       "      <td>4327.043163</td>\n",
       "      <td>60.000000</td>\n",
       "      <td>1.000000</td>\n",
       "      <td>874.773474</td>\n",
       "      <td>5.000000</td>\n",
       "      <td>610.837587</td>\n",
       "      <td>0.000000</td>\n",
       "    </tr>\n",
       "    <tr>\n",
       "      <th>50%</th>\n",
       "      <td>6.000000</td>\n",
       "      <td>362.923646</td>\n",
       "      <td>57558.724009</td>\n",
       "      <td>121.139634</td>\n",
       "      <td>446.161603</td>\n",
       "      <td>0.503468</td>\n",
       "      <td>0.499662</td>\n",
       "      <td>5.007121</td>\n",
       "      <td>4.950169</td>\n",
       "      <td>4.953476</td>\n",
       "      <td>...</td>\n",
       "      <td>24.654440</td>\n",
       "      <td>740128.454035</td>\n",
       "      <td>50.182389</td>\n",
       "      <td>14775.173229</td>\n",
       "      <td>80.000000</td>\n",
       "      <td>2.000000</td>\n",
       "      <td>945.339342</td>\n",
       "      <td>11.000000</td>\n",
       "      <td>680.336221</td>\n",
       "      <td>0.000000</td>\n",
       "    </tr>\n",
       "    <tr>\n",
       "      <th>75%</th>\n",
       "      <td>8.000000</td>\n",
       "      <td>617.845866</td>\n",
       "      <td>100277.809220</td>\n",
       "      <td>206.109169</td>\n",
       "      <td>596.208954</td>\n",
       "      <td>0.749376</td>\n",
       "      <td>0.745555</td>\n",
       "      <td>7.479901</td>\n",
       "      <td>7.526194</td>\n",
       "      <td>7.428750</td>\n",
       "      <td>...</td>\n",
       "      <td>25.883368</td>\n",
       "      <td>898618.482885</td>\n",
       "      <td>75.142756</td>\n",
       "      <td>42679.554588</td>\n",
       "      <td>90.000000</td>\n",
       "      <td>3.000000</td>\n",
       "      <td>1020.803289</td>\n",
       "      <td>16.000000</td>\n",
       "      <td>769.786308</td>\n",
       "      <td>1.000000</td>\n",
       "    </tr>\n",
       "    <tr>\n",
       "      <th>max</th>\n",
       "      <td>10.000000</td>\n",
       "      <td>2290.716172</td>\n",
       "      <td>640346.644820</td>\n",
       "      <td>763.572057</td>\n",
       "      <td>1000.000000</td>\n",
       "      <td>0.999966</td>\n",
       "      <td>0.999926</td>\n",
       "      <td>9.999888</td>\n",
       "      <td>9.999543</td>\n",
       "      <td>9.999985</td>\n",
       "      <td>...</td>\n",
       "      <td>31.622777</td>\n",
       "      <td>2002009.297226</td>\n",
       "      <td>99.974064</td>\n",
       "      <td>583815.858711</td>\n",
       "      <td>100.000000</td>\n",
       "      <td>7.000000</td>\n",
       "      <td>1499.648613</td>\n",
       "      <td>20.000000</td>\n",
       "      <td>999.999049</td>\n",
       "      <td>10.000000</td>\n",
       "    </tr>\n",
       "  </tbody>\n",
       "</table>\n",
       "<p>8 rows × 27 columns</p>\n",
       "</div>"
      ],
      "text/plain": [
       "       Occupation_Satisfaction  Avg_monthly_expense_when_under_age_21  \\\n",
       "count              9933.000000                            9935.000000   \n",
       "mean                  5.529749                             442.413444   \n",
       "std                   2.861947                             328.222569   \n",
       "min                   1.000000                            -394.030092   \n",
       "25%                   3.000000                             195.141170   \n",
       "50%                   6.000000                             362.923646   \n",
       "75%                   8.000000                             617.845866   \n",
       "max                  10.000000                            2290.716172   \n",
       "\n",
       "       AVG_lottary_expanses  Avg_Residancy_Altitude  Yearly_ExpensesK  \\\n",
       "count           9936.000000             9946.000000       9932.000000   \n",
       "mean           73621.327341              147.563315        506.732699   \n",
       "std            61241.107525              109.456697        171.982639   \n",
       "min           -81744.489527             -131.343364          0.349801   \n",
       "25%            29890.614875               65.004805        402.917360   \n",
       "50%            57558.724009              121.139634        446.161603   \n",
       "75%           100277.809220              206.109169        596.208954   \n",
       "max           640346.644820              763.572057       1000.000000   \n",
       "\n",
       "       Financial_balance_score_(0-1)  %Of_Household_Income  \\\n",
       "count                    9943.000000           9936.000000   \n",
       "mean                        0.502560              0.499534   \n",
       "std                         0.288008              0.286933   \n",
       "min                         0.000193              0.000021   \n",
       "25%                         0.254796              0.251451   \n",
       "50%                         0.503468              0.499662   \n",
       "75%                         0.749376              0.745555   \n",
       "max                         0.999966              0.999926   \n",
       "\n",
       "       Avg_government_satisfaction  Avg_education_importance  \\\n",
       "count                  9927.000000               9939.000000   \n",
       "mean                      4.999261                  4.981094   \n",
       "std                       2.890921                  2.904561   \n",
       "min                       0.000616                  0.000258   \n",
       "25%                       2.483181                  2.455611   \n",
       "50%                       5.007121                  4.950169   \n",
       "75%                       7.479901                  7.526194   \n",
       "max                       9.999888                  9.999543   \n",
       "\n",
       "       Avg_environmental_importance               ...                \\\n",
       "count                   9934.000000               ...                 \n",
       "mean                       4.959612               ...                 \n",
       "std                        2.895674               ...                 \n",
       "min                        0.000580               ...                 \n",
       "25%                        2.444570               ...                 \n",
       "50%                        4.953476               ...                 \n",
       "75%                        7.428750               ...                 \n",
       "max                        9.999985               ...                 \n",
       "\n",
       "       Avg_size_per_room  Weighted_education_rank  \\\n",
       "count        9923.000000              9948.000000   \n",
       "mean           24.771706            818161.380996   \n",
       "std             3.197704            339704.013020   \n",
       "min             1.070541               524.288150   \n",
       "25%            23.954494            659533.384017   \n",
       "50%            24.654440            740128.454035   \n",
       "75%            25.883368            898618.482885   \n",
       "max            31.622777           2002009.297226   \n",
       "\n",
       "       %_satisfaction_financial_policy  \\\n",
       "count                      9923.000000   \n",
       "mean                         50.044692   \n",
       "std                          28.858537   \n",
       "min                           0.005066   \n",
       "25%                          25.040706   \n",
       "50%                          50.182389   \n",
       "75%                          75.142756   \n",
       "max                          99.974064   \n",
       "\n",
       "       Garden_sqr_meter_per_person_in_residancy_area  Last_school_grades  \\\n",
       "count                                    9937.000000         9944.000000   \n",
       "mean                                    33862.269264           73.013878   \n",
       "std                                     55081.513763           20.213021   \n",
       "min                                        13.097572           30.000000   \n",
       "25%                                      4327.043163           60.000000   \n",
       "50%                                     14775.173229           80.000000   \n",
       "75%                                     42679.554588           90.000000   \n",
       "max                                    583815.858711          100.000000   \n",
       "\n",
       "       Number_of_differnt_parties_voted_for  Political_interest_Total_Score  \\\n",
       "count                           9950.000000                     9940.000000   \n",
       "mean                               1.999799                      952.335318   \n",
       "std                                1.267039                      176.514934   \n",
       "min                                0.000000                       29.055030   \n",
       "25%                                1.000000                      874.773474   \n",
       "50%                                2.000000                      945.339342   \n",
       "75%                                3.000000                     1020.803289   \n",
       "max                                7.000000                     1499.648613   \n",
       "\n",
       "       Number_of_valued_Kneset_members  Overall_happiness_score  \\\n",
       "count                      9928.000000              9938.000000   \n",
       "mean                         10.499093               680.639789   \n",
       "std                           5.790211               151.711483   \n",
       "min                           1.000000                 3.153985   \n",
       "25%                           5.000000               610.837587   \n",
       "50%                          11.000000               680.336221   \n",
       "75%                          16.000000               769.786308   \n",
       "max                          20.000000               999.999049   \n",
       "\n",
       "       Num_of_kids_born_last_10_years  \n",
       "count                     9949.000000  \n",
       "mean                         0.693738  \n",
       "std                          1.081231  \n",
       "min                          0.000000  \n",
       "25%                          0.000000  \n",
       "50%                          0.000000  \n",
       "75%                          1.000000  \n",
       "max                         10.000000  \n",
       "\n",
       "[8 rows x 27 columns]"
      ]
     },
     "execution_count": 94,
     "metadata": {},
     "output_type": "execute_result"
    }
   ],
   "source": [
    "train.describe()"
   ]
  },
  {
   "cell_type": "code",
   "execution_count": 95,
   "metadata": {
    "collapsed": false
   },
   "outputs": [
    {
     "data": {
      "text/plain": [
       "Vote                                              object\n",
       "Occupation_Satisfaction                          float64\n",
       "Avg_monthly_expense_when_under_age_21            float64\n",
       "AVG_lottary_expanses                             float64\n",
       "Most_Important_Issue                              object\n",
       "Avg_Residancy_Altitude                           float64\n",
       "Looking_at_poles_results                          object\n",
       "Yearly_ExpensesK                                 float64\n",
       "Married                                           object\n",
       "Gender                                            object\n",
       "Voting_Time                                       object\n",
       "Financial_balance_score_(0-1)                    float64\n",
       "%Of_Household_Income                             float64\n",
       "Avg_government_satisfaction                      float64\n",
       "Avg_education_importance                         float64\n",
       "Avg_environmental_importance                     float64\n",
       "Avg_Satisfaction_with_previous_vote              float64\n",
       "Avg_monthly_income_all_years                     float64\n",
       "%Time_invested_in_work                           float64\n",
       "Yearly_IncomeK                                   float64\n",
       "Avg_monthly_expense_on_pets_or_plants            float64\n",
       "Avg_monthly_household_cost                       float64\n",
       "Will_vote_only_large_party                        object\n",
       "Phone_minutes_10_years                           float64\n",
       "Avg_size_per_room                                float64\n",
       "Weighted_education_rank                          float64\n",
       "%_satisfaction_financial_policy                  float64\n",
       "Garden_sqr_meter_per_person_in_residancy_area    float64\n",
       "Last_school_grades                               float64\n",
       "Age_group                                         object\n",
       "Number_of_differnt_parties_voted_for             float64\n",
       "Political_interest_Total_Score                   float64\n",
       "Number_of_valued_Kneset_members                  float64\n",
       "Main_transportation                               object\n",
       "Occupation                                        object\n",
       "Overall_happiness_score                          float64\n",
       "Num_of_kids_born_last_10_years                   float64\n",
       "Financial_agenda_matters                          object\n",
       "dtype: object"
      ]
     },
     "execution_count": 95,
     "metadata": {},
     "output_type": "execute_result"
    }
   ],
   "source": [
    "# feature types\n",
    "train.dtypes"
   ]
  },
  {
   "cell_type": "code",
   "execution_count": 96,
   "metadata": {
    "collapsed": false
   },
   "outputs": [
    {
     "name": "stdout",
     "output_type": "stream",
     "text": [
      "<class 'pandas.core.frame.DataFrame'>\n",
      "Int64Index: 10000 entries, 0 to 9999\n",
      "Data columns (total 38 columns):\n",
      "Vote                                             10000 non-null object\n",
      "Occupation_Satisfaction                          9933 non-null float64\n",
      "Avg_monthly_expense_when_under_age_21            9935 non-null float64\n",
      "AVG_lottary_expanses                             9936 non-null float64\n",
      "Most_Important_Issue                             9968 non-null object\n",
      "Avg_Residancy_Altitude                           9946 non-null float64\n",
      "Looking_at_poles_results                         9975 non-null object\n",
      "Yearly_ExpensesK                                 9932 non-null float64\n",
      "Married                                          9966 non-null object\n",
      "Gender                                           9967 non-null object\n",
      "Voting_Time                                      9976 non-null object\n",
      "Financial_balance_score_(0-1)                    9943 non-null float64\n",
      "%Of_Household_Income                             9936 non-null float64\n",
      "Avg_government_satisfaction                      9927 non-null float64\n",
      "Avg_education_importance                         9939 non-null float64\n",
      "Avg_environmental_importance                     9934 non-null float64\n",
      "Avg_Satisfaction_with_previous_vote              9936 non-null float64\n",
      "Avg_monthly_income_all_years                     9924 non-null float64\n",
      "%Time_invested_in_work                           9937 non-null float64\n",
      "Yearly_IncomeK                                   9930 non-null float64\n",
      "Avg_monthly_expense_on_pets_or_plants            9946 non-null float64\n",
      "Avg_monthly_household_cost                       9938 non-null float64\n",
      "Will_vote_only_large_party                       9971 non-null object\n",
      "Phone_minutes_10_years                           9929 non-null float64\n",
      "Avg_size_per_room                                9923 non-null float64\n",
      "Weighted_education_rank                          9948 non-null float64\n",
      "%_satisfaction_financial_policy                  9923 non-null float64\n",
      "Garden_sqr_meter_per_person_in_residancy_area    9937 non-null float64\n",
      "Last_school_grades                               9944 non-null float64\n",
      "Age_group                                        9972 non-null object\n",
      "Number_of_differnt_parties_voted_for             9950 non-null float64\n",
      "Political_interest_Total_Score                   9940 non-null float64\n",
      "Number_of_valued_Kneset_members                  9928 non-null float64\n",
      "Main_transportation                              9976 non-null object\n",
      "Occupation                                       9974 non-null object\n",
      "Overall_happiness_score                          9938 non-null float64\n",
      "Num_of_kids_born_last_10_years                   9949 non-null float64\n",
      "Financial_agenda_matters                         9977 non-null object\n",
      "dtypes: float64(27), object(11)\n",
      "memory usage: 3.0+ MB\n"
     ]
    }
   ],
   "source": [
    "# summary of the data\n",
    "train.info()"
   ]
  },
  {
   "cell_type": "markdown",
   "metadata": {},
   "source": [
    "# Preparing the data for Machine Learning"
   ]
  },
  {
   "cell_type": "markdown",
   "metadata": {},
   "source": [
    "## convert non-numeric data"
   ]
  },
  {
   "cell_type": "code",
   "execution_count": 97,
   "metadata": {
    "collapsed": true
   },
   "outputs": [],
   "source": [
    "# Identify which of the orginal features are objects\n",
    "ObjFeat=train.keys()[train.dtypes.map(lambda x: x=='object')]\n",
    "\n",
    "# Transform the original features to categorical\n",
    "# Creat new 'int' features, resp.\n",
    "for f in ObjFeat:\n",
    "    train[f] = train[f].astype(\"category\")\n",
    "    train[f+\"Int\"] = train[f].cat.rename_categories(range(train[f].nunique())).astype(int)\n",
    "    train.loc[train[f].isnull(), f+\"Int\"] = np.nan #fix NaN conversion\n",
    "\n",
    "    # Let's creat a crosstabcross-tabulation to look at this transformation\n",
    "    # pd.crosstab(train[f+\"Int\"], train[f], rownames=[f+\"Int\"], colnames=[f])\n",
    "        \n",
    "    test[f] = test[f].astype(\"category\")        \n",
    "    if test[f].cat.categories.isin(train[f].cat.categories).all():\n",
    "        test[f] = test[f].cat.rename_categories(train[f].cat.categories)\n",
    "    else:    \n",
    "        print \"\\n\\nTrain and Test doesnt share the same set of categories in feture '\", f, \"'\" \n",
    "    test[f+\"Int\"] = test[f].cat.rename_categories(range(test[f].nunique())).astype(int)\n",
    "    test.loc[test[f].isnull(), f+\"Int\"] = np.nan #fix NaN conversion"
   ]
  },
  {
   "cell_type": "markdown",
   "metadata": {},
   "source": [
    "## Missing Values"
   ]
  },
  {
   "cell_type": "markdown",
   "metadata": {},
   "source": [
    "First lets remove all samples with missing values"
   ]
  },
  {
   "cell_type": "code",
   "execution_count": 102,
   "metadata": {
    "collapsed": false
   },
   "outputs": [],
   "source": [
    "train = train.dropna()\n",
    "test = test.dropna()"
   ]
  },
  {
   "cell_type": "markdown",
   "metadata": {},
   "source": [
    "## Final Preperations"
   ]
  },
  {
   "cell_type": "code",
   "execution_count": 103,
   "metadata": {
    "collapsed": false
   },
   "outputs": [
    {
     "data": {
      "text/plain": [
       "Vote                          category\n",
       "Most_Important_Issue          category\n",
       "Looking_at_poles_results      category\n",
       "Married                       category\n",
       "Gender                        category\n",
       "Voting_Time                   category\n",
       "Will_vote_only_large_party    category\n",
       "Age_group                     category\n",
       "Main_transportation           category\n",
       "Occupation                    category\n",
       "Financial_agenda_matters      category\n",
       "dtype: object"
      ]
     },
     "execution_count": 103,
     "metadata": {},
     "output_type": "execute_result"
    }
   ],
   "source": [
    "# categorical columns\n",
    "train.dtypes[ObjFeat]\n",
    "test.dtypes[ObjFeat]"
   ]
  },
  {
   "cell_type": "markdown",
   "metadata": {},
   "source": [
    "#### Drop the columns that will not be used in training"
   ]
  },
  {
   "cell_type": "code",
   "execution_count": 104,
   "metadata": {
    "collapsed": false
   },
   "outputs": [
    {
     "data": {
      "text/plain": [
       "Occupation_Satisfaction                          float64\n",
       "Avg_monthly_expense_when_under_age_21            float64\n",
       "AVG_lottary_expanses                             float64\n",
       "Avg_Residancy_Altitude                           float64\n",
       "Yearly_ExpensesK                                 float64\n",
       "Financial_balance_score_(0-1)                    float64\n",
       "%Of_Household_Income                             float64\n",
       "Avg_government_satisfaction                      float64\n",
       "Avg_education_importance                         float64\n",
       "Avg_environmental_importance                     float64\n",
       "Avg_Satisfaction_with_previous_vote              float64\n",
       "Avg_monthly_income_all_years                     float64\n",
       "%Time_invested_in_work                           float64\n",
       "Yearly_IncomeK                                   float64\n",
       "Avg_monthly_expense_on_pets_or_plants            float64\n",
       "Avg_monthly_household_cost                       float64\n",
       "Phone_minutes_10_years                           float64\n",
       "Avg_size_per_room                                float64\n",
       "Weighted_education_rank                          float64\n",
       "%_satisfaction_financial_policy                  float64\n",
       "Garden_sqr_meter_per_person_in_residancy_area    float64\n",
       "Last_school_grades                               float64\n",
       "Number_of_differnt_parties_voted_for             float64\n",
       "Political_interest_Total_Score                   float64\n",
       "Number_of_valued_Kneset_members                  float64\n",
       "Overall_happiness_score                          float64\n",
       "Num_of_kids_born_last_10_years                   float64\n",
       "VoteInt                                          float64\n",
       "Most_Important_IssueInt                          float64\n",
       "Looking_at_poles_resultsInt                      float64\n",
       "MarriedInt                                       float64\n",
       "GenderInt                                        float64\n",
       "Voting_TimeInt                                   float64\n",
       "Will_vote_only_large_partyInt                    float64\n",
       "Age_groupInt                                     float64\n",
       "Main_transportationInt                           float64\n",
       "OccupationInt                                    float64\n",
       "Financial_agenda_mattersInt                      float64\n",
       "dtype: object"
      ]
     },
     "execution_count": 104,
     "metadata": {},
     "output_type": "execute_result"
    }
   ],
   "source": [
    "train = train.drop(ObjFeat, axis=1) \n",
    "test = test.drop(ObjFeat, axis=1) \n",
    "\n",
    "train.dtypes"
   ]
  },
  {
   "cell_type": "markdown",
   "metadata": {},
   "source": [
    "#### Convert to Numpy array"
   ]
  },
  {
   "cell_type": "code",
   "execution_count": 106,
   "metadata": {
    "collapsed": false
   },
   "outputs": [],
   "source": [
    "train_data_X_noNaN = train.drop(['VoteInt'], axis=1).values\n",
    "train_data_Y_noNaN = train.VoteInt.values\n",
    "test_data_noNaN = test.values"
   ]
  },
  {
   "cell_type": "markdown",
   "metadata": {},
   "source": [
    "# Scikit-learn"
   ]
  },
  {
   "cell_type": "markdown",
   "metadata": {},
   "source": [
    "## Training Random Forest Classifier"
   ]
  },
  {
   "cell_type": "code",
   "execution_count": 110,
   "metadata": {
    "collapsed": false
   },
   "outputs": [
    {
     "name": "stdout",
     "output_type": "stream",
     "text": [
      "accuracy: 0.962291870715\n",
      "precision: 0.96272198598\n",
      "recall: 0.962291870715\n",
      "f1 score: 0.962397054066\n"
     ]
    },
    {
     "name": "stderr",
     "output_type": "stream",
     "text": [
      "/Users/Itay/miniconda2/lib/python2.7/site-packages/sklearn/metrics/classification.py:1203: DeprecationWarning: The default `weighted` averaging is deprecated, and from version 0.18, use of precision, recall or F-score with multiclass or multilabel data or pos_label=None will result in an exception. Please set an explicit value for `average`, one of (None, 'micro', 'macro', 'weighted', 'samples'). In cross validation use, for instance, scoring=\"f1_weighted\" instead of scoring=\"f1\".\n",
      "  sample_weight=sample_weight)\n",
      "/Users/Itay/miniconda2/lib/python2.7/site-packages/sklearn/metrics/classification.py:1304: DeprecationWarning: The default `weighted` averaging is deprecated, and from version 0.18, use of precision, recall or F-score with multiclass or multilabel data or pos_label=None will result in an exception. Please set an explicit value for `average`, one of (None, 'micro', 'macro', 'weighted', 'samples'). In cross validation use, for instance, scoring=\"f1_weighted\" instead of scoring=\"f1\".\n",
      "  sample_weight=sample_weight)\n",
      "/Users/Itay/miniconda2/lib/python2.7/site-packages/sklearn/metrics/classification.py:756: DeprecationWarning: The default `weighted` averaging is deprecated, and from version 0.18, use of precision, recall or F-score with multiclass or multilabel data or pos_label=None will result in an exception. Please set an explicit value for `average`, one of (None, 'micro', 'macro', 'weighted', 'samples'). In cross validation use, for instance, scoring=\"f1_weighted\" instead of scoring=\"f1\".\n",
      "  sample_weight=sample_weight)\n"
     ]
    }
   ],
   "source": [
    "# Import the random forest package\n",
    "from sklearn.ensemble import RandomForestClassifier \n",
    "from sklearn.cross_validation import train_test_split\n",
    "from sklearn import metrics\n",
    "\n",
    "# Prepare train and test data using cross validation\n",
    "X_train_noNaN, X_test_noNaN, y_train_noNaN, y_test_noNaN = train_test_split(train_data_X_noNaN, \n",
    "                                                                            train_data_Y_noNaN) \n",
    "                                                                            \n",
    "\n",
    "# Create the random forest object which will include all the parameters\n",
    "# for the fit\n",
    "forest = RandomForestClassifier(n_estimators = 3)\n",
    "\n",
    "# Fit the training data to the Survived labels and create the decision trees\n",
    "forest = forest.fit(train_data_X_noNaN,train_data_Y_noNaN)\n",
    "\n",
    "# output = forest.predict(test_data_noNaN)\n",
    "y_pred_noNaN = forest.predict(X_test_noNaN)\n",
    "\n",
    "print \"accuracy:\", metrics.accuracy_score(y_test_noNaN, y_pred_noNaN)\n",
    "print \"precision:\", metrics.precision_score(y_test_noNaN, y_pred_noNaN)\n",
    "print \"recall:\", metrics.recall_score(y_test_noNaN, y_pred_noNaN)\n",
    "print \"f1 score:\", metrics.f1_score(y_test_noNaN, y_pred_noNaN)"
   ]
  },
  {
   "cell_type": "markdown",
   "metadata": {},
   "source": [
    "## SVM"
   ]
  },
  {
   "cell_type": "code",
   "execution_count": 111,
   "metadata": {
    "collapsed": false
   },
   "outputs": [
    {
     "name": "stdout",
     "output_type": "stream",
     "text": [
      "accuracy: 0.27277179236\n",
      "precision: 0.0744044507075\n",
      "recall: 0.27277179236\n",
      "f1 score: 0.116917189954\n"
     ]
    },
    {
     "name": "stderr",
     "output_type": "stream",
     "text": [
      "/Users/Itay/miniconda2/lib/python2.7/site-packages/sklearn/metrics/classification.py:1203: DeprecationWarning: The default `weighted` averaging is deprecated, and from version 0.18, use of precision, recall or F-score with multiclass or multilabel data or pos_label=None will result in an exception. Please set an explicit value for `average`, one of (None, 'micro', 'macro', 'weighted', 'samples'). In cross validation use, for instance, scoring=\"f1_weighted\" instead of scoring=\"f1\".\n",
      "  sample_weight=sample_weight)\n",
      "/Users/Itay/miniconda2/lib/python2.7/site-packages/sklearn/metrics/classification.py:1074: UndefinedMetricWarning: Precision is ill-defined and being set to 0.0 in labels with no predicted samples.\n",
      "  'precision', 'predicted', average, warn_for)\n",
      "/Users/Itay/miniconda2/lib/python2.7/site-packages/sklearn/metrics/classification.py:1304: DeprecationWarning: The default `weighted` averaging is deprecated, and from version 0.18, use of precision, recall or F-score with multiclass or multilabel data or pos_label=None will result in an exception. Please set an explicit value for `average`, one of (None, 'micro', 'macro', 'weighted', 'samples'). In cross validation use, for instance, scoring=\"f1_weighted\" instead of scoring=\"f1\".\n",
      "  sample_weight=sample_weight)\n",
      "/Users/Itay/miniconda2/lib/python2.7/site-packages/sklearn/metrics/classification.py:756: DeprecationWarning: The default `weighted` averaging is deprecated, and from version 0.18, use of precision, recall or F-score with multiclass or multilabel data or pos_label=None will result in an exception. Please set an explicit value for `average`, one of (None, 'micro', 'macro', 'weighted', 'samples'). In cross validation use, for instance, scoring=\"f1_weighted\" instead of scoring=\"f1\".\n",
      "  sample_weight=sample_weight)\n",
      "/Users/Itay/miniconda2/lib/python2.7/site-packages/sklearn/metrics/classification.py:1074: UndefinedMetricWarning: F-score is ill-defined and being set to 0.0 in labels with no predicted samples.\n",
      "  'precision', 'predicted', average, warn_for)\n"
     ]
    }
   ],
   "source": [
    "from sklearn.svm import SVC\n",
    "\n",
    "clf = SVC().fit(X_train_noNaN, y_train_noNaN)\n",
    "y_pred_noNaN = clf.predict(X_test_noNaN)\n",
    "\n",
    "print \"accuracy:\", metrics.accuracy_score(y_test_noNaN, y_pred_noNaN)\n",
    "print \"precision:\", metrics.precision_score(y_test_noNaN, y_pred_noNaN)\n",
    "print \"recall:\", metrics.recall_score(y_test_noNaN, y_pred_noNaN)\n",
    "print \"f1 score:\", metrics.f1_score(y_test_noNaN, y_pred_noNaN)"
   ]
  },
  {
   "cell_type": "markdown",
   "metadata": {},
   "source": [
    "### Create a K-Folds cross validation iterator"
   ]
  },
  {
   "cell_type": "code",
   "execution_count": 112,
   "metadata": {
    "collapsed": false
   },
   "outputs": [
    {
     "name": "stdout",
     "output_type": "stream",
     "text": [
      "sklearn.cross_validation.KFold(n=8168, n_folds=5, shuffle=False, random_state=None)\n"
     ]
    }
   ],
   "source": [
    "from sklearn.cross_validation import KFold\n",
    "\n",
    "n_folds=5\n",
    "kf = KFold(n=train_data_X_noNaN.shape[0], n_folds=n_folds)\n",
    "\n",
    "print(kf) "
   ]
  },
  {
   "cell_type": "markdown",
   "metadata": {},
   "source": [
    "### Train/Test Random Forest and SVM usin K-Fold cross validation"
   ]
  },
  {
   "cell_type": "code",
   "execution_count": 113,
   "metadata": {
    "collapsed": false
   },
   "outputs": [
    {
     "name": "stdout",
     "output_type": "stream",
     "text": [
      "[fold 0] RF score: 0.81763, SVM score: 0.27785\n",
      "[fold 1] RF score: 0.81824, SVM score: 0.2754\n",
      "[fold 2] RF score: 0.81885, SVM score: 0.26255\n",
      "[fold 3] RF score: 0.82731, SVM score: 0.26761\n",
      "[fold 4] RF score: 0.80159, SVM score: 0.26454\n"
     ]
    }
   ],
   "source": [
    "for k, (train_index, test_index) in enumerate(kf):\n",
    "    # Random Forest\n",
    "    forest = forest.fit(train_data_X_noNaN[train_index], train_data_Y_noNaN[train_index])\n",
    "    y_pred_noNaN_RF = forest.predict(train_data_X_noNaN[test_index])\n",
    "    #SVM\n",
    "    clf = SVC().fit(train_data_X_noNaN[train_index], train_data_Y_noNaN[train_index])\n",
    "    y_pred_noNaN_SVM = clf.predict(train_data_X_noNaN[test_index])\n",
    "    \n",
    "    #results    \n",
    "    print(\"[fold {0}] RF score: {1:.5}, SVM score: {2:.5}\".\n",
    "          format(k, metrics.accuracy_score(train_data_Y_noNaN[test_index],y_pred_noNaN_RF), \n",
    "                 metrics.accuracy_score(train_data_Y_noNaN[test_index], y_pred_noNaN_SVM)))"
   ]
  },
  {
   "cell_type": "code",
   "execution_count": null,
   "metadata": {
    "collapsed": true
   },
   "outputs": [],
   "source": []
  },
  {
   "cell_type": "code",
   "execution_count": null,
   "metadata": {
    "collapsed": true
   },
   "outputs": [],
   "source": []
  },
  {
   "cell_type": "code",
   "execution_count": null,
   "metadata": {
    "collapsed": true
   },
   "outputs": [],
   "source": []
  },
  {
   "cell_type": "code",
   "execution_count": null,
   "metadata": {
    "collapsed": true
   },
   "outputs": [],
   "source": []
  },
  {
   "cell_type": "markdown",
   "metadata": {},
   "source": [
    "Getting vote options"
   ]
  },
  {
   "cell_type": "code",
   "execution_count": 22,
   "metadata": {
    "collapsed": false
   },
   "outputs": [
    {
     "name": "stdout",
     "output_type": "stream",
     "text": [
      "['Blues' 'Browns' 'Greens' 'Greys' 'Oranges' 'Pinks' 'Purples' 'Reds'\n",
      " 'Whites' 'Yellows']\n"
     ]
    }
   ],
   "source": [
    "vote_options = np.asarray(df.Vote.astype('category').cat.categories)\n",
    "print(vote_options)"
   ]
  },
  {
   "cell_type": "code",
   "execution_count": 82,
   "metadata": {
    "collapsed": false
   },
   "outputs": [
    {
     "data": {
      "text/plain": [
       "array([9, 7, 8, 0, 0, 9, 4, 3, 1, 0, 7, 3, 0, 8, 7, 7, 0, 0, 4, 8, 3, 2, 3,\n",
       "       3, 9, 5, 9, 7, 5, 8, 5, 8, 2, 5, 1, 3, 5, 7, 0, 7, 3, 4, 8, 8, 0, 1,\n",
       "       7, 0, 9, 9, 9, 0, 4, 5, 8, 0, 9, 4, 7, 9, 4, 9, 0, 3, 9, 9, 9, 8, 3,\n",
       "       9, 7, 8, 6, 0, 9, 7, 0, 0, 7, 8, 7, 9, 0, 4, 3, 1, 4, 0, 9, 9, 0, 4,\n",
       "       9, 0, 2, 7, 1, 6, 9, 8])"
      ]
     },
     "execution_count": 82,
     "metadata": {},
     "output_type": "execute_result"
    }
   ],
   "source": [
    "df_partial = df.dropna()[['Vote', 'AVG_lottary_expanses', 'Yearly_ExpensesK', 'Yearly_IncomeK']]\n",
    "df_partial = df_partial[0:100]\n",
    "df_partial.describe()\n",
    "\n",
    "feature_names = ['AVG_lottary_expanses', 'Yearly_ExpensesK', 'Yearly_IncomeK']\n",
    "\n",
    "partial_data = df_partial[['AVG_lottary_expanses', 'Yearly_ExpensesK', 'Yearly_IncomeK']].values\n",
    "df_partial.Vote = df_partial.Vote.astype('category')\n",
    "VoteInt = df_partial.Vote.cat.rename_categories(range(df_partial.Vote.nunique())).astype(int)\n",
    "partial_target = np.asarray(VoteInt)\n",
    "partial_target"
   ]
  },
  {
   "cell_type": "code",
   "execution_count": 85,
   "metadata": {
    "collapsed": false
   },
   "outputs": [
    {
     "data": {
      "image/png": "[encoded data removed]",
      "text/plain": [
       "<matplotlib.figure.Figure at 0x1045a08d0>"
      ]
     },
     "metadata": {},
     "output_type": "display_data"
    }
   ],
   "source": [
    "x_index = 1\n",
    "y_index = 2\n",
    "\n",
    "# this formatter will label the colorbar with the correct target names\n",
    "formatter = plt.FuncFormatter(lambda i, *args: vote_options[int(i)])\n",
    "\n",
    "plt.scatter(partial_data[:, x_index], partial_data[:, y_index],\n",
    "            c=partial_target, cmap=plt.cm.get_cmap('RdYlBu', 10))\n",
    "plt.colorbar(ticks=[0, 1, 2, 3, 4, 5, 6, 7, 8, 9], format=formatter)\n",
    "plt.clim(-0.5, 2.5)\n",
    "plt.xlabel(feature_names[x_index])\n",
    "plt.ylabel(feature_names[y_index]);"
   ]
  },
  {
   "cell_type": "code",
   "execution_count": null,
   "metadata": {
    "collapsed": true
   },
   "outputs": [],
   "source": []
  }
 ],
 "metadata": {
  "kernelspec": {
   "display_name": "Python 2",
   "language": "python",
   "name": "python2"
  },
  "language_info": {
   "codemirror_mode": {
    "name": "ipython",
    "version": 2
   },
   "file_extension": ".py",
   "mimetype": "text/x-python",
   "name": "python",
   "nbconvert_exporter": "python",
   "pygments_lexer": "ipython2",
   "version": "2.7.10"
  }
 },
 "nbformat": 4,
 "nbformat_minor": 0
}
