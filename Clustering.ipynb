{
 "cells": [
  {
   "cell_type": "code",
   "execution_count": 1,
   "metadata": {
    "collapsed": false
   },
   "outputs": [],
   "source": [
    "%matplotlib inline\n",
    "import math\n",
    "import pandas as pd"
   ]
  },
  {
   "cell_type": "code",
   "execution_count": 38,
   "metadata": {
    "collapsed": false
   },
   "outputs": [
    {
     "data": {
      "text/html": [
       "<div>\n",
       "<table border=\"1\" class=\"dataframe\">\n",
       "  <thead>\n",
       "    <tr style=\"text-align: right;\">\n",
       "      <th></th>\n",
       "      <th>Yearly_ExpensesK</th>\n",
       "      <th>Avg_Residancy_Altitude</th>\n",
       "      <th>Overall_happiness_score</th>\n",
       "      <th>Will_vote_only_large_party</th>\n",
       "      <th>Financial_agenda_matters</th>\n",
       "      <th>Yearly_IncomeK</th>\n",
       "      <th>Most_Important_Issue</th>\n",
       "      <th>Vote</th>\n",
       "    </tr>\n",
       "  </thead>\n",
       "  <tbody>\n",
       "    <tr>\n",
       "      <th>count</th>\n",
       "      <td>6000.000000</td>\n",
       "      <td>6000.000000</td>\n",
       "      <td>6000.000000</td>\n",
       "      <td>6000.000000</td>\n",
       "      <td>6000.000000</td>\n",
       "      <td>6000.000000</td>\n",
       "      <td>6000.000000</td>\n",
       "      <td>6000.000000</td>\n",
       "    </tr>\n",
       "    <tr>\n",
       "      <th>mean</th>\n",
       "      <td>0.002270</td>\n",
       "      <td>-0.006917</td>\n",
       "      <td>0.008513</td>\n",
       "      <td>0.958000</td>\n",
       "      <td>0.186167</td>\n",
       "      <td>0.011338</td>\n",
       "      <td>3.097833</td>\n",
       "      <td>5.108833</td>\n",
       "    </tr>\n",
       "    <tr>\n",
       "      <th>std</th>\n",
       "      <td>1.000050</td>\n",
       "      <td>0.988772</td>\n",
       "      <td>0.999945</td>\n",
       "      <td>0.200606</td>\n",
       "      <td>0.389274</td>\n",
       "      <td>0.990657</td>\n",
       "      <td>2.408782</td>\n",
       "      <td>3.360735</td>\n",
       "    </tr>\n",
       "    <tr>\n",
       "      <th>min</th>\n",
       "      <td>-2.945120</td>\n",
       "      <td>-2.432355</td>\n",
       "      <td>-3.726302</td>\n",
       "      <td>0.000000</td>\n",
       "      <td>0.000000</td>\n",
       "      <td>-3.918231</td>\n",
       "      <td>0.000000</td>\n",
       "      <td>0.000000</td>\n",
       "    </tr>\n",
       "    <tr>\n",
       "      <th>25%</th>\n",
       "      <td>-0.601923</td>\n",
       "      <td>-0.805058</td>\n",
       "      <td>-0.625250</td>\n",
       "      <td>1.000000</td>\n",
       "      <td>0.000000</td>\n",
       "      <td>-0.487121</td>\n",
       "      <td>1.000000</td>\n",
       "      <td>2.000000</td>\n",
       "    </tr>\n",
       "    <tr>\n",
       "      <th>50%</th>\n",
       "      <td>-0.349992</td>\n",
       "      <td>-0.234427</td>\n",
       "      <td>-0.058003</td>\n",
       "      <td>1.000000</td>\n",
       "      <td>0.000000</td>\n",
       "      <td>-0.218022</td>\n",
       "      <td>3.000000</td>\n",
       "      <td>5.000000</td>\n",
       "    </tr>\n",
       "    <tr>\n",
       "      <th>75%</th>\n",
       "      <td>0.517605</td>\n",
       "      <td>0.606814</td>\n",
       "      <td>0.619365</td>\n",
       "      <td>1.000000</td>\n",
       "      <td>0.000000</td>\n",
       "      <td>0.316993</td>\n",
       "      <td>5.000000</td>\n",
       "      <td>9.000000</td>\n",
       "    </tr>\n",
       "    <tr>\n",
       "      <th>max</th>\n",
       "      <td>2.868502</td>\n",
       "      <td>3.344068</td>\n",
       "      <td>2.473634</td>\n",
       "      <td>1.000000</td>\n",
       "      <td>1.000000</td>\n",
       "      <td>3.091690</td>\n",
       "      <td>7.000000</td>\n",
       "      <td>9.000000</td>\n",
       "    </tr>\n",
       "  </tbody>\n",
       "</table>\n",
       "</div>"
      ],
      "text/plain": [
       "       Yearly_ExpensesK  Avg_Residancy_Altitude  Overall_happiness_score  \\\n",
       "count       6000.000000             6000.000000              6000.000000   \n",
       "mean           0.002270               -0.006917                 0.008513   \n",
       "std            1.000050                0.988772                 0.999945   \n",
       "min           -2.945120               -2.432355                -3.726302   \n",
       "25%           -0.601923               -0.805058                -0.625250   \n",
       "50%           -0.349992               -0.234427                -0.058003   \n",
       "75%            0.517605                0.606814                 0.619365   \n",
       "max            2.868502                3.344068                 2.473634   \n",
       "\n",
       "       Will_vote_only_large_party  Financial_agenda_matters  Yearly_IncomeK  \\\n",
       "count                 6000.000000               6000.000000     6000.000000   \n",
       "mean                     0.958000                  0.186167        0.011338   \n",
       "std                      0.200606                  0.389274        0.990657   \n",
       "min                      0.000000                  0.000000       -3.918231   \n",
       "25%                      1.000000                  0.000000       -0.487121   \n",
       "50%                      1.000000                  0.000000       -0.218022   \n",
       "75%                      1.000000                  0.000000        0.316993   \n",
       "max                      1.000000                  1.000000        3.091690   \n",
       "\n",
       "       Most_Important_Issue         Vote  \n",
       "count           6000.000000  6000.000000  \n",
       "mean               3.097833     5.108833  \n",
       "std                2.408782     3.360735  \n",
       "min                0.000000     0.000000  \n",
       "25%                1.000000     2.000000  \n",
       "50%                3.000000     5.000000  \n",
       "75%                5.000000     9.000000  \n",
       "max                7.000000     9.000000  "
      ]
     },
     "execution_count": 38,
     "metadata": {},
     "output_type": "execute_result"
    }
   ],
   "source": [
    "df = pd.read_csv('./dataset/transformed_train.csv')\n",
    "df.describe()"
   ]
  },
  {
   "cell_type": "code",
   "execution_count": null,
   "metadata": {
    "collapsed": false
   },
   "outputs": [],
   "source": [
    "def get_votes_count_by_party(df):\n",
    "    parties = {}\n",
    "    for party in df.Vote.unique():\n",
    "        parties[party] = len(df[df.Vote == party])\n",
    "    return parties;"
   ]
  },
  {
   "cell_type": "code",
   "execution_count": null,
   "metadata": {
    "collapsed": false,
    "scrolled": true
   },
   "outputs": [],
   "source": [
    "from sklearn.cluster import KMeans\n",
    "n_clusters = 100;\n",
    "cls = KMeans(n_clusters=n_clusters)\n",
    "res = cls.fit_predict(df.drop('Vote', axis=1))\n",
    "\n",
    "for v in xrange(n_clusters):\n",
    "    sum_ = sum(get_votes_count_by_party(df.iloc[[x for x,y in enumerate(res) if y==v]]).itervalues())\n",
    "    print max({k: (v + .0) / sum_ for k, v in get_votes_count_by_party(df.iloc[[x for x,y in enumerate(res) if y==v]]).iteritems()}.itervalues())"
   ]
  },
  {
   "cell_type": "code",
   "execution_count": null,
   "metadata": {
    "collapsed": false
   },
   "outputs": [],
   "source": [
    "ones = [x for x,y in enumerate(res) if y==1]\n",
    "zeros = [x for x,y in enumerate(res) if y==0]\n",
    "f = [x for x,y in enumerate(res) if y==3]"
   ]
  },
  {
   "cell_type": "code",
   "execution_count": null,
   "metadata": {
    "collapsed": false
   },
   "outputs": [],
   "source": [
    "zeros_parties = get_votes_count_by_party(df.iloc[zeros])\n",
    "f_parties = get_votes_count_by_party(df.iloc[f])\n",
    "ones_parties = get_votes_count_by_party(df.iloc[ones])\n",
    "all_parties = get_votes_count_by_party(df)"
   ]
  },
  {
   "cell_type": "code",
   "execution_count": null,
   "metadata": {
    "collapsed": false,
    "scrolled": true
   },
   "outputs": [],
   "source": [
    "{k: (v + .0) / sum_ for k, v in f_parties.iteritems()}"
   ]
  },
  {
   "cell_type": "code",
   "execution_count": 13,
   "metadata": {
    "collapsed": false
   },
   "outputs": [],
   "source": [
    "minimal_coalitions = []\n",
    "def is_majority(coalition):    \n",
    "    return len(df[df.Vote.isin(coalition)]) > len(df)/2\n",
    "\n",
    "def is_minimal_coalition(coalition):\n",
    "    if not is_majority(coalition):\n",
    "        return False\n",
    "    for party in coalition:\n",
    "        if (is_majority(coalition.difference([party]))):\n",
    "            return False\n",
    "    return True\n",
    "\n",
    "def get_coalitions(coalition, i):\n",
    "    if is_minimal_coalition(coalition):\n",
    "        minimal_coalitions.append(coalition)\n",
    "    else:\n",
    "        if i==10:\n",
    "            return\n",
    "        get_coalitions(coalition.union([i]), i+1)\n",
    "        get_coalitions(coalition, i+1)\n",
    "\n",
    "coalition = set()\n",
    "get_coalitions(coalition, 0)"
   ]
  },
  {
   "cell_type": "code",
   "execution_count": 14,
   "metadata": {
    "collapsed": false
   },
   "outputs": [
    {
     "data": {
      "text/plain": [
       "[{0, 1, 2, 3, 4, 5},\n",
       " {0, 1, 2, 3, 4, 8},\n",
       " {0, 1, 2, 4, 7},\n",
       " {0, 1, 2, 5, 7, 8},\n",
       " {0, 1, 3, 4, 5, 8},\n",
       " {0, 1, 3, 6, 7, 8},\n",
       " {0, 1, 4, 5, 7},\n",
       " {0, 1, 4, 7, 8},\n",
       " {0, 1, 5, 9},\n",
       " {0, 2, 3, 4, 5, 8},\n",
       " {0, 2, 3, 4, 6, 8},\n",
       " {0, 2, 3, 5, 7},\n",
       " {0, 2, 3, 7, 8},\n",
       " {0, 2, 4, 5, 7},\n",
       " {0, 2, 4, 7, 8},\n",
       " {0, 2, 9},\n",
       " {0, 3, 4, 7},\n",
       " {0, 3, 5, 7, 8},\n",
       " {0, 3, 9},\n",
       " {0, 4, 5, 7, 8},\n",
       " {0, 4, 9},\n",
       " {0, 5, 6, 9},\n",
       " {0, 7, 9},\n",
       " {0, 8, 9},\n",
       " {1, 2, 3, 5, 9},\n",
       " {1, 2, 3, 8, 9},\n",
       " {1, 2, 4, 5, 9},\n",
       " {1, 2, 7, 9},\n",
       " {1, 3, 4, 9},\n",
       " {1, 3, 5, 8, 9},\n",
       " {1, 5, 6, 7, 9},\n",
       " {1, 7, 8, 9},\n",
       " {2, 3, 4, 5, 7, 8},\n",
       " {2, 3, 4, 9},\n",
       " {2, 3, 5, 8, 9},\n",
       " {2, 4, 5, 6, 9},\n",
       " {2, 4, 8, 9},\n",
       " {2, 5, 7, 9},\n",
       " {2, 7, 8, 9},\n",
       " {3, 4, 5, 9},\n",
       " {3, 4, 8, 9},\n",
       " {3, 7, 9},\n",
       " {4, 5, 8, 9},\n",
       " {4, 7, 9},\n",
       " {5, 7, 8, 9}]"
      ]
     },
     "execution_count": 14,
     "metadata": {},
     "output_type": "execute_result"
    }
   ],
   "source": [
    "minimal_coalitions"
   ]
  },
  {
   "cell_type": "code",
   "execution_count": 15,
   "metadata": {
    "collapsed": false
   },
   "outputs": [
    {
     "data": {
      "text/plain": [
       "45"
      ]
     },
     "execution_count": 15,
     "metadata": {},
     "output_type": "execute_result"
    }
   ],
   "source": [
    "len(minimal_coalitions)"
   ]
  },
  {
   "cell_type": "code",
   "execution_count": 55,
   "metadata": {
    "collapsed": false
   },
   "outputs": [
    {
     "name": "stdout",
     "output_type": "stream",
     "text": [
      "Coalition: set([0, 1, 2, 3, 4, 5]), size: 3116, score: 0.336893585984\n",
      "Coalition: set([0, 1, 2, 3, 4, 8]), size: 3163, score: 0.233995084843\n",
      "Coalition: set([0, 1, 2, 4, 7]), size: 3044, score: 0.213518587919\n",
      "Coalition: set([0, 1, 2, 5, 7, 8]), size: 3096, score: 0.351120155127\n",
      "Coalition: set([0, 1, 3, 4, 5, 8]), size: 3141, score: 0.143579220627\n",
      "Coalition: set([0, 1, 3, 6, 7, 8]), size: 3010, score: 0.186150585191\n",
      "Coalition: set([0, 1, 4, 5, 7]), size: 3022, score: 0.181416151593\n",
      "Coalition: set([0, 1, 4, 8, 7]), size: 3069, score: 0.240800531484\n",
      "Coalition: set([0, 1, 5, 9]), size: 3200, score: 0.56172749155\n",
      "Coalition: set([0, 2, 3, 4, 5, 8]), size: 3295, score: 0.368156300995\n",
      "Coalition: set([0, 2, 3, 4, 6, 8]), size: 3015, score: 0.246346411923\n",
      "Coalition: set([0, 2, 3, 5, 7]), size: 3065, score: 0.355164551627\n",
      "Coalition: set([0, 8, 2, 3, 7]), size: 3112, score: 0.32112260258\n",
      "Coalition: set([0, 2, 4, 5, 7]), size: 3176, score: 0.355349019112\n",
      "Coalition: set([0, 8, 2, 4, 7]), size: 3223, score: 0.363542791832\n",
      "Coalition: set([0, 9, 2]), size: 3022, score: 0.565572533736\n",
      "Coalition: set([0, 3, 4, 7]), size: 3038, score: 0.375270350469\n",
      "Coalition: set([0, 8, 3, 5, 7]), size: 3090, score: 0.270783497326\n",
      "Coalition: set([0, 9, 3]), size: 3216, score: 0.947853949134\n",
      "Coalition: set([0, 8, 4, 5, 7]), size: 3201, score: 0.340842334841\n",
      "Coalition: set([0, 9, 4]), size: 3327, score: 0.771869372457\n",
      "Coalition: set([0, 9, 5, 6]), size: 3052, score: 0.523078199204\n",
      "Coalition: set([0, 9, 7]), size: 3476, score: 0.688230935969\n",
      "Coalition: set([0, 8, 9]), size: 3047, score: 0.526473655227\n",
      "Coalition: set([1, 2, 3, 5, 9]), size: 3079, score: 0.259366965901\n",
      "Coalition: set([8, 1, 2, 3, 9]), size: 3126, score: 0.208341025753\n",
      "Coalition: set([1, 2, 4, 5, 9]), size: 3190, score: 0.168043847761\n",
      "Coalition: set([1, 2, 9, 7]), size: 3007, score: 0.195677946689\n",
      "Coalition: set([1, 3, 4, 9]), size: 3052, score: 0.602100342184\n",
      "Coalition: set([8, 1, 3, 5, 9]), size: 3104, score: 0.208166247196\n",
      "Coalition: set([1, 9, 5, 6, 7]), size: 3037, score: 0.255867757267\n",
      "Coalition: set([8, 1, 9, 7]), size: 3032, score: 0.365574161335\n",
      "Coalition: set([2, 3, 4, 5, 7, 8]), size: 3080, score: 0.565574003903\n",
      "Coalition: set([9, 2, 3, 4]), size: 3206, score: 0.255254772447\n",
      "Coalition: set([8, 9, 2, 3, 5]), size: 3258, score: 0.224366752041\n",
      "Coalition: set([9, 2, 4, 5, 6]), size: 3042, score: 0.166838987233\n",
      "Coalition: set([8, 9, 2, 4]), size: 3037, score: 0.172133227742\n",
      "Coalition: set([9, 2, 5, 7]), size: 3139, score: 0.182002533008\n",
      "Coalition: set([8, 9, 2, 7]), size: 3186, score: 0.28326304727\n",
      "Coalition: set([9, 3, 4, 5]), size: 3184, score: 0.420276857314\n",
      "Coalition: set([8, 9, 3, 4]), size: 3231, score: 0.402542431981\n",
      "Coalition: set([9, 3, 7]), size: 3001, score: 0.585848060844\n",
      "Coalition: set([8, 9, 4, 5]), size: 3015, score: 0.235287923765\n",
      "Coalition: set([9, 4, 7]), size: 3112, score: 0.579564808654\n",
      "Coalition: set([8, 9, 5, 7]), size: 3164, score: 0.320380457364\n"
     ]
    }
   ],
   "source": [
    "import numpy\n",
    "def evaluate_coalition(df, coalition):\n",
    "    coalition_df = df[df.Vote.isin(coalition)].drop('Vote',axis=1)\n",
    "    coalition_mean = coalition_df.mean()\n",
    "    oposition_mean = df[-df.Vote.isin(coalition)].drop('Vote',axis=1).mean()\n",
    "    coalition_df['distance_from_mean'] = numpy.linalg.norm(coalition_df-coalition_mean, axis=1)    \n",
    "    distance_within_coalition = coalition_df['distance_from_mean'].mean()\n",
    "    distance_between = numpy.linalg.norm(coalition_mean-oposition_mean)\n",
    "    score = distance_between / distance_within_coalition\n",
    "    print 'Coalition: ' + str(coalition) + \", size: \" + str(len(coalition_df)) + \", score: \" + str(score)\n",
    "    \n",
    "for coalition in minimal_coalitions:\n",
    "    evaluate_coalition(df.drop('Most_Important_Issue', axis=1), coalition)"
   ]
  },
  {
   "cell_type": "code",
   "execution_count": 42,
   "metadata": {
    "collapsed": false
   },
   "outputs": [
    {
     "ename": "NameError",
     "evalue": "name 'coalition_df' is not defined",
     "output_type": "error",
     "traceback": [
      "\u001b[1;31m---------------------------------------------------------------------------\u001b[0m",
      "\u001b[1;31mNameError\u001b[0m                                 Traceback (most recent call last)",
      "\u001b[1;32m<ipython-input-42-e6a27668ce58>\u001b[0m in \u001b[0;36m<module>\u001b[1;34m()\u001b[0m\n\u001b[1;32m----> 1\u001b[1;33m \u001b[0mcoalition_df\u001b[0m\u001b[1;33m\u001b[0m\u001b[0m\n\u001b[0m",
      "\u001b[1;31mNameError\u001b[0m: name 'coalition_df' is not defined"
     ]
    }
   ],
   "source": [
    "coalition_df"
   ]
  },
  {
   "cell_type": "code",
   "execution_count": 33,
   "metadata": {
    "collapsed": false
   },
   "outputs": [],
   "source": [
    "df = pd.DataFrame([[1,2],[3,4]],columns=[\"a\",\"b\"])"
   ]
  },
  {
   "cell_type": "code",
   "execution_count": 35,
   "metadata": {
    "collapsed": false
   },
   "outputs": [
    {
     "data": {
      "text/plain": [
       "a    2\n",
       "b    3\n",
       "dtype: float64"
      ]
     },
     "execution_count": 35,
     "metadata": {},
     "output_type": "execute_result"
    }
   ],
   "source": [
    "df.mean()"
   ]
  },
  {
   "cell_type": "code",
   "execution_count": 36,
   "metadata": {
    "collapsed": false
   },
   "outputs": [
    {
     "data": {
      "text/html": [
       "<div>\n",
       "<table border=\"1\" class=\"dataframe\">\n",
       "  <thead>\n",
       "    <tr style=\"text-align: right;\">\n",
       "      <th></th>\n",
       "      <th>a</th>\n",
       "      <th>b</th>\n",
       "    </tr>\n",
       "  </thead>\n",
       "  <tbody>\n",
       "    <tr>\n",
       "      <th>0</th>\n",
       "      <td>-1</td>\n",
       "      <td>-1</td>\n",
       "    </tr>\n",
       "    <tr>\n",
       "      <th>1</th>\n",
       "      <td>1</td>\n",
       "      <td>1</td>\n",
       "    </tr>\n",
       "  </tbody>\n",
       "</table>\n",
       "</div>"
      ],
      "text/plain": [
       "   a  b\n",
       "0 -1 -1\n",
       "1  1  1"
      ]
     },
     "execution_count": 36,
     "metadata": {},
     "output_type": "execute_result"
    }
   ],
   "source": [
    "df-df.mean()"
   ]
  },
  {
   "cell_type": "code",
   "execution_count": null,
   "metadata": {
    "collapsed": true
   },
   "outputs": [],
   "source": []
  }
 ],
 "metadata": {
  "kernelspec": {
   "display_name": "Python 2",
   "language": "python",
   "name": "python2"
  },
  "language_info": {
   "codemirror_mode": {
    "name": "ipython",
    "version": 2
   },
   "file_extension": ".py",
   "mimetype": "text/x-python",
   "name": "python",
   "nbconvert_exporter": "python",
   "pygments_lexer": "ipython2",
   "version": "2.7.11"
  }
 },
 "nbformat": 4,
 "nbformat_minor": 0
}
